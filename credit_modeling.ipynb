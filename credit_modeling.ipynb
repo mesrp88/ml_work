{
  "nbformat": 4,
  "nbformat_minor": 0,
  "metadata": {
    "colab": {
      "name": "credit_modeling.ipynb",
      "provenance": [],
      "authorship_tag": "ABX9TyMcQxhS0q69m7WDSBoHNLvS",
      "include_colab_link": true
    },
    "kernelspec": {
      "name": "python3",
      "display_name": "Python 3"
    },
    "language_info": {
      "name": "python"
    }
  },
  "cells": [
    {
      "cell_type": "markdown",
      "metadata": {
        "id": "view-in-github",
        "colab_type": "text"
      },
      "source": [
        "<a href=\"https://colab.research.google.com/github/mesrp88/ml_work/blob/creating_new/credit_modeling.ipynb\" target=\"_parent\"><img src=\"https://colab.research.google.com/assets/colab-badge.svg\" alt=\"Open In Colab\"/></a>"
      ]
    },
    {
      "cell_type": "code",
      "metadata": {
        "id": "NKLKraqvc152"
      },
      "source": [
        "import numpy as np\n",
        "import pandas as pd\n",
        "import matplotlib.pyplot as plt\n"
      ],
      "execution_count": 1,
      "outputs": []
    },
    {
      "cell_type": "markdown",
      "metadata": {
        "id": "M0HudulodV_p"
      },
      "source": [
        "Full data Science work from data cleaning to feature extraction to machine learning"
      ]
    },
    {
      "cell_type": "code",
      "metadata": {
        "id": "R48yWnt7dhEz",
        "colab": {
          "base_uri": "https://localhost:8080/",
          "height": 386
        },
        "outputId": "9b57df45-0da2-4cee-b740-747364da0e3d"
      },
      "source": [
        "loan_df= pd.read_csv('/content/loans_2007.csv')\n",
        "loan_df.head()"
      ],
      "execution_count": 2,
      "outputs": [
        {
          "output_type": "stream",
          "text": [
            "/usr/local/lib/python3.7/dist-packages/IPython/core/interactiveshell.py:2718: DtypeWarning: Columns (0) have mixed types.Specify dtype option on import or set low_memory=False.\n",
            "  interactivity=interactivity, compiler=compiler, result=result)\n"
          ],
          "name": "stderr"
        },
        {
          "output_type": "execute_result",
          "data": {
            "text/html": [
              "<div>\n",
              "<style scoped>\n",
              "    .dataframe tbody tr th:only-of-type {\n",
              "        vertical-align: middle;\n",
              "    }\n",
              "\n",
              "    .dataframe tbody tr th {\n",
              "        vertical-align: top;\n",
              "    }\n",
              "\n",
              "    .dataframe thead th {\n",
              "        text-align: right;\n",
              "    }\n",
              "</style>\n",
              "<table border=\"1\" class=\"dataframe\">\n",
              "  <thead>\n",
              "    <tr style=\"text-align: right;\">\n",
              "      <th></th>\n",
              "      <th>id</th>\n",
              "      <th>member_id</th>\n",
              "      <th>loan_amnt</th>\n",
              "      <th>funded_amnt</th>\n",
              "      <th>funded_amnt_inv</th>\n",
              "      <th>term</th>\n",
              "      <th>int_rate</th>\n",
              "      <th>installment</th>\n",
              "      <th>grade</th>\n",
              "      <th>sub_grade</th>\n",
              "      <th>emp_title</th>\n",
              "      <th>emp_length</th>\n",
              "      <th>home_ownership</th>\n",
              "      <th>annual_inc</th>\n",
              "      <th>verification_status</th>\n",
              "      <th>issue_d</th>\n",
              "      <th>loan_status</th>\n",
              "      <th>pymnt_plan</th>\n",
              "      <th>purpose</th>\n",
              "      <th>title</th>\n",
              "      <th>zip_code</th>\n",
              "      <th>addr_state</th>\n",
              "      <th>dti</th>\n",
              "      <th>delinq_2yrs</th>\n",
              "      <th>earliest_cr_line</th>\n",
              "      <th>inq_last_6mths</th>\n",
              "      <th>open_acc</th>\n",
              "      <th>pub_rec</th>\n",
              "      <th>revol_bal</th>\n",
              "      <th>revol_util</th>\n",
              "      <th>total_acc</th>\n",
              "      <th>initial_list_status</th>\n",
              "      <th>out_prncp</th>\n",
              "      <th>out_prncp_inv</th>\n",
              "      <th>total_pymnt</th>\n",
              "      <th>total_pymnt_inv</th>\n",
              "      <th>total_rec_prncp</th>\n",
              "      <th>total_rec_int</th>\n",
              "      <th>total_rec_late_fee</th>\n",
              "      <th>recoveries</th>\n",
              "      <th>collection_recovery_fee</th>\n",
              "      <th>last_pymnt_d</th>\n",
              "      <th>last_pymnt_amnt</th>\n",
              "      <th>last_credit_pull_d</th>\n",
              "      <th>collections_12_mths_ex_med</th>\n",
              "      <th>policy_code</th>\n",
              "      <th>application_type</th>\n",
              "      <th>acc_now_delinq</th>\n",
              "      <th>chargeoff_within_12_mths</th>\n",
              "      <th>delinq_amnt</th>\n",
              "      <th>pub_rec_bankruptcies</th>\n",
              "      <th>tax_liens</th>\n",
              "    </tr>\n",
              "  </thead>\n",
              "  <tbody>\n",
              "    <tr>\n",
              "      <th>0</th>\n",
              "      <td>1077501</td>\n",
              "      <td>1296599.0</td>\n",
              "      <td>5000.0</td>\n",
              "      <td>5000.0</td>\n",
              "      <td>4975.0</td>\n",
              "      <td>36 months</td>\n",
              "      <td>10.65%</td>\n",
              "      <td>162.87</td>\n",
              "      <td>B</td>\n",
              "      <td>B2</td>\n",
              "      <td>NaN</td>\n",
              "      <td>10+ years</td>\n",
              "      <td>RENT</td>\n",
              "      <td>24000.0</td>\n",
              "      <td>Verified</td>\n",
              "      <td>Dec-2011</td>\n",
              "      <td>Fully Paid</td>\n",
              "      <td>n</td>\n",
              "      <td>credit_card</td>\n",
              "      <td>Computer</td>\n",
              "      <td>860xx</td>\n",
              "      <td>AZ</td>\n",
              "      <td>27.65</td>\n",
              "      <td>0.0</td>\n",
              "      <td>Jan-1985</td>\n",
              "      <td>1.0</td>\n",
              "      <td>3.0</td>\n",
              "      <td>0.0</td>\n",
              "      <td>13648.0</td>\n",
              "      <td>83.7%</td>\n",
              "      <td>9.0</td>\n",
              "      <td>f</td>\n",
              "      <td>0.00</td>\n",
              "      <td>0.00</td>\n",
              "      <td>5863.155187</td>\n",
              "      <td>5833.84</td>\n",
              "      <td>5000.00</td>\n",
              "      <td>863.16</td>\n",
              "      <td>0.00</td>\n",
              "      <td>0.00</td>\n",
              "      <td>0.00</td>\n",
              "      <td>Jan-2015</td>\n",
              "      <td>171.62</td>\n",
              "      <td>Jun-2016</td>\n",
              "      <td>0.0</td>\n",
              "      <td>1.0</td>\n",
              "      <td>INDIVIDUAL</td>\n",
              "      <td>0.0</td>\n",
              "      <td>0.0</td>\n",
              "      <td>0.0</td>\n",
              "      <td>0.0</td>\n",
              "      <td>0.0</td>\n",
              "    </tr>\n",
              "    <tr>\n",
              "      <th>1</th>\n",
              "      <td>1077430</td>\n",
              "      <td>1314167.0</td>\n",
              "      <td>2500.0</td>\n",
              "      <td>2500.0</td>\n",
              "      <td>2500.0</td>\n",
              "      <td>60 months</td>\n",
              "      <td>15.27%</td>\n",
              "      <td>59.83</td>\n",
              "      <td>C</td>\n",
              "      <td>C4</td>\n",
              "      <td>Ryder</td>\n",
              "      <td>&lt; 1 year</td>\n",
              "      <td>RENT</td>\n",
              "      <td>30000.0</td>\n",
              "      <td>Source Verified</td>\n",
              "      <td>Dec-2011</td>\n",
              "      <td>Charged Off</td>\n",
              "      <td>n</td>\n",
              "      <td>car</td>\n",
              "      <td>bike</td>\n",
              "      <td>309xx</td>\n",
              "      <td>GA</td>\n",
              "      <td>1.00</td>\n",
              "      <td>0.0</td>\n",
              "      <td>Apr-1999</td>\n",
              "      <td>5.0</td>\n",
              "      <td>3.0</td>\n",
              "      <td>0.0</td>\n",
              "      <td>1687.0</td>\n",
              "      <td>9.4%</td>\n",
              "      <td>4.0</td>\n",
              "      <td>f</td>\n",
              "      <td>0.00</td>\n",
              "      <td>0.00</td>\n",
              "      <td>1008.710000</td>\n",
              "      <td>1008.71</td>\n",
              "      <td>456.46</td>\n",
              "      <td>435.17</td>\n",
              "      <td>0.00</td>\n",
              "      <td>117.08</td>\n",
              "      <td>1.11</td>\n",
              "      <td>Apr-2013</td>\n",
              "      <td>119.66</td>\n",
              "      <td>Sep-2013</td>\n",
              "      <td>0.0</td>\n",
              "      <td>1.0</td>\n",
              "      <td>INDIVIDUAL</td>\n",
              "      <td>0.0</td>\n",
              "      <td>0.0</td>\n",
              "      <td>0.0</td>\n",
              "      <td>0.0</td>\n",
              "      <td>0.0</td>\n",
              "    </tr>\n",
              "    <tr>\n",
              "      <th>2</th>\n",
              "      <td>1077175</td>\n",
              "      <td>1313524.0</td>\n",
              "      <td>2400.0</td>\n",
              "      <td>2400.0</td>\n",
              "      <td>2400.0</td>\n",
              "      <td>36 months</td>\n",
              "      <td>15.96%</td>\n",
              "      <td>84.33</td>\n",
              "      <td>C</td>\n",
              "      <td>C5</td>\n",
              "      <td>NaN</td>\n",
              "      <td>10+ years</td>\n",
              "      <td>RENT</td>\n",
              "      <td>12252.0</td>\n",
              "      <td>Not Verified</td>\n",
              "      <td>Dec-2011</td>\n",
              "      <td>Fully Paid</td>\n",
              "      <td>n</td>\n",
              "      <td>small_business</td>\n",
              "      <td>real estate business</td>\n",
              "      <td>606xx</td>\n",
              "      <td>IL</td>\n",
              "      <td>8.72</td>\n",
              "      <td>0.0</td>\n",
              "      <td>Nov-2001</td>\n",
              "      <td>2.0</td>\n",
              "      <td>2.0</td>\n",
              "      <td>0.0</td>\n",
              "      <td>2956.0</td>\n",
              "      <td>98.5%</td>\n",
              "      <td>10.0</td>\n",
              "      <td>f</td>\n",
              "      <td>0.00</td>\n",
              "      <td>0.00</td>\n",
              "      <td>3005.666844</td>\n",
              "      <td>3005.67</td>\n",
              "      <td>2400.00</td>\n",
              "      <td>605.67</td>\n",
              "      <td>0.00</td>\n",
              "      <td>0.00</td>\n",
              "      <td>0.00</td>\n",
              "      <td>Jun-2014</td>\n",
              "      <td>649.91</td>\n",
              "      <td>Jun-2016</td>\n",
              "      <td>0.0</td>\n",
              "      <td>1.0</td>\n",
              "      <td>INDIVIDUAL</td>\n",
              "      <td>0.0</td>\n",
              "      <td>0.0</td>\n",
              "      <td>0.0</td>\n",
              "      <td>0.0</td>\n",
              "      <td>0.0</td>\n",
              "    </tr>\n",
              "    <tr>\n",
              "      <th>3</th>\n",
              "      <td>1076863</td>\n",
              "      <td>1277178.0</td>\n",
              "      <td>10000.0</td>\n",
              "      <td>10000.0</td>\n",
              "      <td>10000.0</td>\n",
              "      <td>36 months</td>\n",
              "      <td>13.49%</td>\n",
              "      <td>339.31</td>\n",
              "      <td>C</td>\n",
              "      <td>C1</td>\n",
              "      <td>AIR RESOURCES BOARD</td>\n",
              "      <td>10+ years</td>\n",
              "      <td>RENT</td>\n",
              "      <td>49200.0</td>\n",
              "      <td>Source Verified</td>\n",
              "      <td>Dec-2011</td>\n",
              "      <td>Fully Paid</td>\n",
              "      <td>n</td>\n",
              "      <td>other</td>\n",
              "      <td>personel</td>\n",
              "      <td>917xx</td>\n",
              "      <td>CA</td>\n",
              "      <td>20.00</td>\n",
              "      <td>0.0</td>\n",
              "      <td>Feb-1996</td>\n",
              "      <td>1.0</td>\n",
              "      <td>10.0</td>\n",
              "      <td>0.0</td>\n",
              "      <td>5598.0</td>\n",
              "      <td>21%</td>\n",
              "      <td>37.0</td>\n",
              "      <td>f</td>\n",
              "      <td>0.00</td>\n",
              "      <td>0.00</td>\n",
              "      <td>12231.890000</td>\n",
              "      <td>12231.89</td>\n",
              "      <td>10000.00</td>\n",
              "      <td>2214.92</td>\n",
              "      <td>16.97</td>\n",
              "      <td>0.00</td>\n",
              "      <td>0.00</td>\n",
              "      <td>Jan-2015</td>\n",
              "      <td>357.48</td>\n",
              "      <td>Apr-2016</td>\n",
              "      <td>0.0</td>\n",
              "      <td>1.0</td>\n",
              "      <td>INDIVIDUAL</td>\n",
              "      <td>0.0</td>\n",
              "      <td>0.0</td>\n",
              "      <td>0.0</td>\n",
              "      <td>0.0</td>\n",
              "      <td>0.0</td>\n",
              "    </tr>\n",
              "    <tr>\n",
              "      <th>4</th>\n",
              "      <td>1075358</td>\n",
              "      <td>1311748.0</td>\n",
              "      <td>3000.0</td>\n",
              "      <td>3000.0</td>\n",
              "      <td>3000.0</td>\n",
              "      <td>60 months</td>\n",
              "      <td>12.69%</td>\n",
              "      <td>67.79</td>\n",
              "      <td>B</td>\n",
              "      <td>B5</td>\n",
              "      <td>University Medical Group</td>\n",
              "      <td>1 year</td>\n",
              "      <td>RENT</td>\n",
              "      <td>80000.0</td>\n",
              "      <td>Source Verified</td>\n",
              "      <td>Dec-2011</td>\n",
              "      <td>Current</td>\n",
              "      <td>n</td>\n",
              "      <td>other</td>\n",
              "      <td>Personal</td>\n",
              "      <td>972xx</td>\n",
              "      <td>OR</td>\n",
              "      <td>17.94</td>\n",
              "      <td>0.0</td>\n",
              "      <td>Jan-1996</td>\n",
              "      <td>0.0</td>\n",
              "      <td>15.0</td>\n",
              "      <td>0.0</td>\n",
              "      <td>27783.0</td>\n",
              "      <td>53.9%</td>\n",
              "      <td>38.0</td>\n",
              "      <td>f</td>\n",
              "      <td>461.73</td>\n",
              "      <td>461.73</td>\n",
              "      <td>3581.120000</td>\n",
              "      <td>3581.12</td>\n",
              "      <td>2538.27</td>\n",
              "      <td>1042.85</td>\n",
              "      <td>0.00</td>\n",
              "      <td>0.00</td>\n",
              "      <td>0.00</td>\n",
              "      <td>Jun-2016</td>\n",
              "      <td>67.79</td>\n",
              "      <td>Jun-2016</td>\n",
              "      <td>0.0</td>\n",
              "      <td>1.0</td>\n",
              "      <td>INDIVIDUAL</td>\n",
              "      <td>0.0</td>\n",
              "      <td>0.0</td>\n",
              "      <td>0.0</td>\n",
              "      <td>0.0</td>\n",
              "      <td>0.0</td>\n",
              "    </tr>\n",
              "  </tbody>\n",
              "</table>\n",
              "</div>"
            ],
            "text/plain": [
              "        id  member_id  loan_amnt  ...  delinq_amnt  pub_rec_bankruptcies tax_liens\n",
              "0  1077501  1296599.0     5000.0  ...          0.0                   0.0       0.0\n",
              "1  1077430  1314167.0     2500.0  ...          0.0                   0.0       0.0\n",
              "2  1077175  1313524.0     2400.0  ...          0.0                   0.0       0.0\n",
              "3  1076863  1277178.0    10000.0  ...          0.0                   0.0       0.0\n",
              "4  1075358  1311748.0     3000.0  ...          0.0                   0.0       0.0\n",
              "\n",
              "[5 rows x 52 columns]"
            ]
          },
          "metadata": {
            "tags": []
          },
          "execution_count": 2
        }
      ]
    },
    {
      "cell_type": "code",
      "metadata": {
        "id": "tTEQyXeDJ3zy",
        "colab": {
          "base_uri": "https://localhost:8080/"
        },
        "outputId": "41138a5d-08e8-4bac-e06a-bb593c85e3c6"
      },
      "source": [
        "loan_df.shape"
      ],
      "execution_count": 3,
      "outputs": [
        {
          "output_type": "execute_result",
          "data": {
            "text/plain": [
              "(42538, 52)"
            ]
          },
          "metadata": {
            "tags": []
          },
          "execution_count": 3
        }
      ]
    },
    {
      "cell_type": "code",
      "metadata": {
        "colab": {
          "base_uri": "https://localhost:8080/"
        },
        "id": "-yBInJ_vUXqR",
        "outputId": "237c93a4-10e4-4bc8-aba9-40ddd7f08326"
      },
      "source": [
        "print('Number of rows:',loan_df.shape[0])\n",
        "print('Number of rows:',loan_df.shape[1])"
      ],
      "execution_count": 4,
      "outputs": [
        {
          "output_type": "stream",
          "text": [
            "Number of rows: 42538\n",
            "Number of rows: 52\n"
          ],
          "name": "stdout"
        }
      ]
    },
    {
      "cell_type": "code",
      "metadata": {
        "colab": {
          "base_uri": "https://localhost:8080/"
        },
        "id": "vq2u5U4zUpda",
        "outputId": "8206904a-f823-40ab-c24c-983d5f49c7a4"
      },
      "source": [
        "loan_df.drop_duplicates()\n",
        "print('Number of rows:',loan_df.shape[0])\n",
        "print('Number of rows:',loan_df.shape[1])"
      ],
      "execution_count": 5,
      "outputs": [
        {
          "output_type": "stream",
          "text": [
            "Number of rows: 42538\n",
            "Number of rows: 52\n"
          ],
          "name": "stdout"
        }
      ]
    },
    {
      "cell_type": "markdown",
      "metadata": {
        "id": "-mlsiU7nU47z"
      },
      "source": [
        "here we can see there is no any duplicates rows"
      ]
    },
    {
      "cell_type": "code",
      "metadata": {
        "colab": {
          "base_uri": "https://localhost:8080/"
        },
        "id": "ekh-VYEzU0d8",
        "outputId": "3b0f0866-4af6-470f-b797-a83dfdaa74ff"
      },
      "source": [
        "loan_df.info()"
      ],
      "execution_count": 6,
      "outputs": [
        {
          "output_type": "stream",
          "text": [
            "<class 'pandas.core.frame.DataFrame'>\n",
            "RangeIndex: 42538 entries, 0 to 42537\n",
            "Data columns (total 52 columns):\n",
            " #   Column                      Non-Null Count  Dtype  \n",
            "---  ------                      --------------  -----  \n",
            " 0   id                          42538 non-null  object \n",
            " 1   member_id                   42535 non-null  float64\n",
            " 2   loan_amnt                   42535 non-null  float64\n",
            " 3   funded_amnt                 42535 non-null  float64\n",
            " 4   funded_amnt_inv             42535 non-null  float64\n",
            " 5   term                        42535 non-null  object \n",
            " 6   int_rate                    42535 non-null  object \n",
            " 7   installment                 42535 non-null  float64\n",
            " 8   grade                       42535 non-null  object \n",
            " 9   sub_grade                   42535 non-null  object \n",
            " 10  emp_title                   39909 non-null  object \n",
            " 11  emp_length                  41423 non-null  object \n",
            " 12  home_ownership              42535 non-null  object \n",
            " 13  annual_inc                  42531 non-null  float64\n",
            " 14  verification_status         42535 non-null  object \n",
            " 15  issue_d                     42535 non-null  object \n",
            " 16  loan_status                 42535 non-null  object \n",
            " 17  pymnt_plan                  42535 non-null  object \n",
            " 18  purpose                     42535 non-null  object \n",
            " 19  title                       42522 non-null  object \n",
            " 20  zip_code                    42535 non-null  object \n",
            " 21  addr_state                  42535 non-null  object \n",
            " 22  dti                         42535 non-null  float64\n",
            " 23  delinq_2yrs                 42506 non-null  float64\n",
            " 24  earliest_cr_line            42506 non-null  object \n",
            " 25  inq_last_6mths              42506 non-null  float64\n",
            " 26  open_acc                    42506 non-null  float64\n",
            " 27  pub_rec                     42506 non-null  float64\n",
            " 28  revol_bal                   42535 non-null  float64\n",
            " 29  revol_util                  42445 non-null  object \n",
            " 30  total_acc                   42506 non-null  float64\n",
            " 31  initial_list_status         42535 non-null  object \n",
            " 32  out_prncp                   42535 non-null  float64\n",
            " 33  out_prncp_inv               42535 non-null  float64\n",
            " 34  total_pymnt                 42535 non-null  float64\n",
            " 35  total_pymnt_inv             42535 non-null  float64\n",
            " 36  total_rec_prncp             42535 non-null  float64\n",
            " 37  total_rec_int               42535 non-null  float64\n",
            " 38  total_rec_late_fee          42535 non-null  float64\n",
            " 39  recoveries                  42535 non-null  float64\n",
            " 40  collection_recovery_fee     42535 non-null  float64\n",
            " 41  last_pymnt_d                42452 non-null  object \n",
            " 42  last_pymnt_amnt             42535 non-null  float64\n",
            " 43  last_credit_pull_d          42531 non-null  object \n",
            " 44  collections_12_mths_ex_med  42390 non-null  float64\n",
            " 45  policy_code                 42535 non-null  float64\n",
            " 46  application_type            42535 non-null  object \n",
            " 47  acc_now_delinq              42506 non-null  float64\n",
            " 48  chargeoff_within_12_mths    42390 non-null  float64\n",
            " 49  delinq_amnt                 42506 non-null  float64\n",
            " 50  pub_rec_bankruptcies        41170 non-null  float64\n",
            " 51  tax_liens                   42430 non-null  float64\n",
            "dtypes: float64(30), object(22)\n",
            "memory usage: 16.9+ MB\n"
          ],
          "name": "stdout"
        }
      ]
    },
    {
      "cell_type": "code",
      "metadata": {
        "colab": {
          "base_uri": "https://localhost:8080/"
        },
        "id": "K15h1zrqVNy8",
        "outputId": "60a34dd2-7e48-449e-9f26-ba9ea69fcce6"
      },
      "source": [
        "'desc' in loan_df.columns"
      ],
      "execution_count": 7,
      "outputs": [
        {
          "output_type": "execute_result",
          "data": {
            "text/plain": [
              "False"
            ]
          },
          "metadata": {
            "tags": []
          },
          "execution_count": 7
        }
      ]
    },
    {
      "cell_type": "code",
      "metadata": {
        "colab": {
          "base_uri": "https://localhost:8080/"
        },
        "id": "o9slB3BXVv-3",
        "outputId": "4e105947-dcbe-4a1b-a073-0af4bb4241a8"
      },
      "source": [
        "round((loan_df.isnull().sum()/loan_df.shape[0])*100, 2)"
      ],
      "execution_count": 8,
      "outputs": [
        {
          "output_type": "execute_result",
          "data": {
            "text/plain": [
              "id                            0.00\n",
              "member_id                     0.01\n",
              "loan_amnt                     0.01\n",
              "funded_amnt                   0.01\n",
              "funded_amnt_inv               0.01\n",
              "term                          0.01\n",
              "int_rate                      0.01\n",
              "installment                   0.01\n",
              "grade                         0.01\n",
              "sub_grade                     0.01\n",
              "emp_title                     6.18\n",
              "emp_length                    2.62\n",
              "home_ownership                0.01\n",
              "annual_inc                    0.02\n",
              "verification_status           0.01\n",
              "issue_d                       0.01\n",
              "loan_status                   0.01\n",
              "pymnt_plan                    0.01\n",
              "purpose                       0.01\n",
              "title                         0.04\n",
              "zip_code                      0.01\n",
              "addr_state                    0.01\n",
              "dti                           0.01\n",
              "delinq_2yrs                   0.08\n",
              "earliest_cr_line              0.08\n",
              "inq_last_6mths                0.08\n",
              "open_acc                      0.08\n",
              "pub_rec                       0.08\n",
              "revol_bal                     0.01\n",
              "revol_util                    0.22\n",
              "total_acc                     0.08\n",
              "initial_list_status           0.01\n",
              "out_prncp                     0.01\n",
              "out_prncp_inv                 0.01\n",
              "total_pymnt                   0.01\n",
              "total_pymnt_inv               0.01\n",
              "total_rec_prncp               0.01\n",
              "total_rec_int                 0.01\n",
              "total_rec_late_fee            0.01\n",
              "recoveries                    0.01\n",
              "collection_recovery_fee       0.01\n",
              "last_pymnt_d                  0.20\n",
              "last_pymnt_amnt               0.01\n",
              "last_credit_pull_d            0.02\n",
              "collections_12_mths_ex_med    0.35\n",
              "policy_code                   0.01\n",
              "application_type              0.01\n",
              "acc_now_delinq                0.08\n",
              "chargeoff_within_12_mths      0.35\n",
              "delinq_amnt                   0.08\n",
              "pub_rec_bankruptcies          3.22\n",
              "tax_liens                     0.25\n",
              "dtype: float64"
            ]
          },
          "metadata": {
            "tags": []
          },
          "execution_count": 8
        }
      ]
    },
    {
      "cell_type": "markdown",
      "metadata": {
        "id": "wjWUPBqfWUD9"
      },
      "source": [
        "there is not huge missing value"
      ]
    },
    {
      "cell_type": "code",
      "metadata": {
        "colab": {
          "base_uri": "https://localhost:8080/"
        },
        "id": "NZiR8ukrV6FQ",
        "outputId": "15dc03ca-12d1-464e-c3e1-0274dccd37ec"
      },
      "source": [
        "loan_df = loan_df.drop([\"id\", \"member_id\", \"funded_amnt\", \n",
        "                              \"funded_amnt_inv\",\"grade\", \"sub_grade\", \"emp_title\", \"issue_d\"], axis=1)\n",
        "loan_df= loan_df.drop(['zip_code', 'out_prncp', 'out_prncp_inv', 'total_pymnt', \n",
        "                         'total_pymnt_inv', 'total_rec_prncp'], axis=1)\n",
        "loan_df_after= loan_df.drop(['total_rec_int', 'total_rec_late_fee', 'recoveries', \n",
        "                             'collection_recovery_fee', 'last_pymnt_d', 'last_pymnt_amnt'], axis=1)\n",
        "print(loan_df_after.iloc[0])\n"
      ],
      "execution_count": 9,
      "outputs": [
        {
          "output_type": "stream",
          "text": [
            "loan_amnt                            5000\n",
            "term                            36 months\n",
            "int_rate                           10.65%\n",
            "installment                        162.87\n",
            "emp_length                      10+ years\n",
            "home_ownership                       RENT\n",
            "annual_inc                          24000\n",
            "verification_status              Verified\n",
            "loan_status                    Fully Paid\n",
            "pymnt_plan                              n\n",
            "purpose                       credit_card\n",
            "title                            Computer\n",
            "addr_state                             AZ\n",
            "dti                                 27.65\n",
            "delinq_2yrs                             0\n",
            "earliest_cr_line                 Jan-1985\n",
            "inq_last_6mths                          1\n",
            "open_acc                                3\n",
            "pub_rec                                 0\n",
            "revol_bal                           13648\n",
            "revol_util                          83.7%\n",
            "total_acc                               9\n",
            "initial_list_status                     f\n",
            "last_credit_pull_d               Jun-2016\n",
            "collections_12_mths_ex_med              0\n",
            "policy_code                             1\n",
            "application_type               INDIVIDUAL\n",
            "acc_now_delinq                          0\n",
            "chargeoff_within_12_mths                0\n",
            "delinq_amnt                             0\n",
            "pub_rec_bankruptcies                    0\n",
            "tax_liens                               0\n",
            "Name: 0, dtype: object\n"
          ],
          "name": "stdout"
        }
      ]
    },
    {
      "cell_type": "code",
      "metadata": {
        "colab": {
          "base_uri": "https://localhost:8080/"
        },
        "id": "0moYjS_OW5cf",
        "outputId": "0f4e7819-6338-4f99-e853-6cfc0d6b4f12"
      },
      "source": [
        "print('Number of columns:',loan_df_after.shape[1])"
      ],
      "execution_count": 10,
      "outputs": [
        {
          "output_type": "stream",
          "text": [
            "Number of columns: 32\n"
          ],
          "name": "stdout"
        }
      ]
    },
    {
      "cell_type": "code",
      "metadata": {
        "colab": {
          "base_uri": "https://localhost:8080/"
        },
        "id": "O2_739X1YiYG",
        "outputId": "d5641991-6a8b-4055-fa57-3d5fb441c90d"
      },
      "source": [
        "loan_df_after.info()"
      ],
      "execution_count": 11,
      "outputs": [
        {
          "output_type": "stream",
          "text": [
            "<class 'pandas.core.frame.DataFrame'>\n",
            "RangeIndex: 42538 entries, 0 to 42537\n",
            "Data columns (total 32 columns):\n",
            " #   Column                      Non-Null Count  Dtype  \n",
            "---  ------                      --------------  -----  \n",
            " 0   loan_amnt                   42535 non-null  float64\n",
            " 1   term                        42535 non-null  object \n",
            " 2   int_rate                    42535 non-null  object \n",
            " 3   installment                 42535 non-null  float64\n",
            " 4   emp_length                  41423 non-null  object \n",
            " 5   home_ownership              42535 non-null  object \n",
            " 6   annual_inc                  42531 non-null  float64\n",
            " 7   verification_status         42535 non-null  object \n",
            " 8   loan_status                 42535 non-null  object \n",
            " 9   pymnt_plan                  42535 non-null  object \n",
            " 10  purpose                     42535 non-null  object \n",
            " 11  title                       42522 non-null  object \n",
            " 12  addr_state                  42535 non-null  object \n",
            " 13  dti                         42535 non-null  float64\n",
            " 14  delinq_2yrs                 42506 non-null  float64\n",
            " 15  earliest_cr_line            42506 non-null  object \n",
            " 16  inq_last_6mths              42506 non-null  float64\n",
            " 17  open_acc                    42506 non-null  float64\n",
            " 18  pub_rec                     42506 non-null  float64\n",
            " 19  revol_bal                   42535 non-null  float64\n",
            " 20  revol_util                  42445 non-null  object \n",
            " 21  total_acc                   42506 non-null  float64\n",
            " 22  initial_list_status         42535 non-null  object \n",
            " 23  last_credit_pull_d          42531 non-null  object \n",
            " 24  collections_12_mths_ex_med  42390 non-null  float64\n",
            " 25  policy_code                 42535 non-null  float64\n",
            " 26  application_type            42535 non-null  object \n",
            " 27  acc_now_delinq              42506 non-null  float64\n",
            " 28  chargeoff_within_12_mths    42390 non-null  float64\n",
            " 29  delinq_amnt                 42506 non-null  float64\n",
            " 30  pub_rec_bankruptcies        41170 non-null  float64\n",
            " 31  tax_liens                   42430 non-null  float64\n",
            "dtypes: float64(17), object(15)\n",
            "memory usage: 10.4+ MB\n"
          ],
          "name": "stdout"
        }
      ]
    },
    {
      "cell_type": "code",
      "metadata": {
        "colab": {
          "base_uri": "https://localhost:8080/"
        },
        "id": "xOtc0NlGaT75",
        "outputId": "a6d45f08-2002-427c-e86e-ed9b9988ccaa"
      },
      "source": [
        "loan_df_after['loan_status'].value_counts()"
      ],
      "execution_count": 12,
      "outputs": [
        {
          "output_type": "execute_result",
          "data": {
            "text/plain": [
              "Fully Paid                                             33136\n",
              "Charged Off                                             5634\n",
              "Does not meet the credit policy. Status:Fully Paid      1988\n",
              "Current                                                  961\n",
              "Does not meet the credit policy. Status:Charged Off      761\n",
              "Late (31-120 days)                                        24\n",
              "In Grace Period                                           20\n",
              "Late (16-30 days)                                          8\n",
              "Default                                                    3\n",
              "Name: loan_status, dtype: int64"
            ]
          },
          "metadata": {
            "tags": []
          },
          "execution_count": 12
        }
      ]
    },
    {
      "cell_type": "code",
      "metadata": {
        "id": "SPwEe1k7cmkH"
      },
      "source": [
        "final_df= loan_df_after[(loan_df_after['loan_status']=='Fully Paid') | (loan_df_after['loan_status']=='Charged Off')]\n",
        "\n",
        "mapping_dict= {\n",
        "    'loan_status':{'Fully Paid':1,\n",
        "                   'Charged Off':0}\n",
        "}\n",
        "final_df= final_df.replace(mapping_dict)"
      ],
      "execution_count": 13,
      "outputs": []
    },
    {
      "cell_type": "code",
      "metadata": {
        "colab": {
          "base_uri": "https://localhost:8080/",
          "height": 384
        },
        "id": "hjF0j0mHghgS",
        "outputId": "794d8cdc-484c-4059-9364-c66fd5593900"
      },
      "source": [
        "final_df.head()"
      ],
      "execution_count": 14,
      "outputs": [
        {
          "output_type": "execute_result",
          "data": {
            "text/html": [
              "<div>\n",
              "<style scoped>\n",
              "    .dataframe tbody tr th:only-of-type {\n",
              "        vertical-align: middle;\n",
              "    }\n",
              "\n",
              "    .dataframe tbody tr th {\n",
              "        vertical-align: top;\n",
              "    }\n",
              "\n",
              "    .dataframe thead th {\n",
              "        text-align: right;\n",
              "    }\n",
              "</style>\n",
              "<table border=\"1\" class=\"dataframe\">\n",
              "  <thead>\n",
              "    <tr style=\"text-align: right;\">\n",
              "      <th></th>\n",
              "      <th>loan_amnt</th>\n",
              "      <th>term</th>\n",
              "      <th>int_rate</th>\n",
              "      <th>installment</th>\n",
              "      <th>emp_length</th>\n",
              "      <th>home_ownership</th>\n",
              "      <th>annual_inc</th>\n",
              "      <th>verification_status</th>\n",
              "      <th>loan_status</th>\n",
              "      <th>pymnt_plan</th>\n",
              "      <th>purpose</th>\n",
              "      <th>title</th>\n",
              "      <th>addr_state</th>\n",
              "      <th>dti</th>\n",
              "      <th>delinq_2yrs</th>\n",
              "      <th>earliest_cr_line</th>\n",
              "      <th>inq_last_6mths</th>\n",
              "      <th>open_acc</th>\n",
              "      <th>pub_rec</th>\n",
              "      <th>revol_bal</th>\n",
              "      <th>revol_util</th>\n",
              "      <th>total_acc</th>\n",
              "      <th>initial_list_status</th>\n",
              "      <th>last_credit_pull_d</th>\n",
              "      <th>collections_12_mths_ex_med</th>\n",
              "      <th>policy_code</th>\n",
              "      <th>application_type</th>\n",
              "      <th>acc_now_delinq</th>\n",
              "      <th>chargeoff_within_12_mths</th>\n",
              "      <th>delinq_amnt</th>\n",
              "      <th>pub_rec_bankruptcies</th>\n",
              "      <th>tax_liens</th>\n",
              "    </tr>\n",
              "  </thead>\n",
              "  <tbody>\n",
              "    <tr>\n",
              "      <th>0</th>\n",
              "      <td>5000.0</td>\n",
              "      <td>36 months</td>\n",
              "      <td>10.65%</td>\n",
              "      <td>162.87</td>\n",
              "      <td>10+ years</td>\n",
              "      <td>RENT</td>\n",
              "      <td>24000.0</td>\n",
              "      <td>Verified</td>\n",
              "      <td>1</td>\n",
              "      <td>n</td>\n",
              "      <td>credit_card</td>\n",
              "      <td>Computer</td>\n",
              "      <td>AZ</td>\n",
              "      <td>27.65</td>\n",
              "      <td>0.0</td>\n",
              "      <td>Jan-1985</td>\n",
              "      <td>1.0</td>\n",
              "      <td>3.0</td>\n",
              "      <td>0.0</td>\n",
              "      <td>13648.0</td>\n",
              "      <td>83.7%</td>\n",
              "      <td>9.0</td>\n",
              "      <td>f</td>\n",
              "      <td>Jun-2016</td>\n",
              "      <td>0.0</td>\n",
              "      <td>1.0</td>\n",
              "      <td>INDIVIDUAL</td>\n",
              "      <td>0.0</td>\n",
              "      <td>0.0</td>\n",
              "      <td>0.0</td>\n",
              "      <td>0.0</td>\n",
              "      <td>0.0</td>\n",
              "    </tr>\n",
              "    <tr>\n",
              "      <th>1</th>\n",
              "      <td>2500.0</td>\n",
              "      <td>60 months</td>\n",
              "      <td>15.27%</td>\n",
              "      <td>59.83</td>\n",
              "      <td>&lt; 1 year</td>\n",
              "      <td>RENT</td>\n",
              "      <td>30000.0</td>\n",
              "      <td>Source Verified</td>\n",
              "      <td>0</td>\n",
              "      <td>n</td>\n",
              "      <td>car</td>\n",
              "      <td>bike</td>\n",
              "      <td>GA</td>\n",
              "      <td>1.00</td>\n",
              "      <td>0.0</td>\n",
              "      <td>Apr-1999</td>\n",
              "      <td>5.0</td>\n",
              "      <td>3.0</td>\n",
              "      <td>0.0</td>\n",
              "      <td>1687.0</td>\n",
              "      <td>9.4%</td>\n",
              "      <td>4.0</td>\n",
              "      <td>f</td>\n",
              "      <td>Sep-2013</td>\n",
              "      <td>0.0</td>\n",
              "      <td>1.0</td>\n",
              "      <td>INDIVIDUAL</td>\n",
              "      <td>0.0</td>\n",
              "      <td>0.0</td>\n",
              "      <td>0.0</td>\n",
              "      <td>0.0</td>\n",
              "      <td>0.0</td>\n",
              "    </tr>\n",
              "    <tr>\n",
              "      <th>2</th>\n",
              "      <td>2400.0</td>\n",
              "      <td>36 months</td>\n",
              "      <td>15.96%</td>\n",
              "      <td>84.33</td>\n",
              "      <td>10+ years</td>\n",
              "      <td>RENT</td>\n",
              "      <td>12252.0</td>\n",
              "      <td>Not Verified</td>\n",
              "      <td>1</td>\n",
              "      <td>n</td>\n",
              "      <td>small_business</td>\n",
              "      <td>real estate business</td>\n",
              "      <td>IL</td>\n",
              "      <td>8.72</td>\n",
              "      <td>0.0</td>\n",
              "      <td>Nov-2001</td>\n",
              "      <td>2.0</td>\n",
              "      <td>2.0</td>\n",
              "      <td>0.0</td>\n",
              "      <td>2956.0</td>\n",
              "      <td>98.5%</td>\n",
              "      <td>10.0</td>\n",
              "      <td>f</td>\n",
              "      <td>Jun-2016</td>\n",
              "      <td>0.0</td>\n",
              "      <td>1.0</td>\n",
              "      <td>INDIVIDUAL</td>\n",
              "      <td>0.0</td>\n",
              "      <td>0.0</td>\n",
              "      <td>0.0</td>\n",
              "      <td>0.0</td>\n",
              "      <td>0.0</td>\n",
              "    </tr>\n",
              "    <tr>\n",
              "      <th>3</th>\n",
              "      <td>10000.0</td>\n",
              "      <td>36 months</td>\n",
              "      <td>13.49%</td>\n",
              "      <td>339.31</td>\n",
              "      <td>10+ years</td>\n",
              "      <td>RENT</td>\n",
              "      <td>49200.0</td>\n",
              "      <td>Source Verified</td>\n",
              "      <td>1</td>\n",
              "      <td>n</td>\n",
              "      <td>other</td>\n",
              "      <td>personel</td>\n",
              "      <td>CA</td>\n",
              "      <td>20.00</td>\n",
              "      <td>0.0</td>\n",
              "      <td>Feb-1996</td>\n",
              "      <td>1.0</td>\n",
              "      <td>10.0</td>\n",
              "      <td>0.0</td>\n",
              "      <td>5598.0</td>\n",
              "      <td>21%</td>\n",
              "      <td>37.0</td>\n",
              "      <td>f</td>\n",
              "      <td>Apr-2016</td>\n",
              "      <td>0.0</td>\n",
              "      <td>1.0</td>\n",
              "      <td>INDIVIDUAL</td>\n",
              "      <td>0.0</td>\n",
              "      <td>0.0</td>\n",
              "      <td>0.0</td>\n",
              "      <td>0.0</td>\n",
              "      <td>0.0</td>\n",
              "    </tr>\n",
              "    <tr>\n",
              "      <th>5</th>\n",
              "      <td>5000.0</td>\n",
              "      <td>36 months</td>\n",
              "      <td>7.90%</td>\n",
              "      <td>156.46</td>\n",
              "      <td>3 years</td>\n",
              "      <td>RENT</td>\n",
              "      <td>36000.0</td>\n",
              "      <td>Source Verified</td>\n",
              "      <td>1</td>\n",
              "      <td>n</td>\n",
              "      <td>wedding</td>\n",
              "      <td>My wedding loan I promise to pay back</td>\n",
              "      <td>AZ</td>\n",
              "      <td>11.20</td>\n",
              "      <td>0.0</td>\n",
              "      <td>Nov-2004</td>\n",
              "      <td>3.0</td>\n",
              "      <td>9.0</td>\n",
              "      <td>0.0</td>\n",
              "      <td>7963.0</td>\n",
              "      <td>28.3%</td>\n",
              "      <td>12.0</td>\n",
              "      <td>f</td>\n",
              "      <td>Jan-2016</td>\n",
              "      <td>0.0</td>\n",
              "      <td>1.0</td>\n",
              "      <td>INDIVIDUAL</td>\n",
              "      <td>0.0</td>\n",
              "      <td>0.0</td>\n",
              "      <td>0.0</td>\n",
              "      <td>0.0</td>\n",
              "      <td>0.0</td>\n",
              "    </tr>\n",
              "  </tbody>\n",
              "</table>\n",
              "</div>"
            ],
            "text/plain": [
              "   loan_amnt        term int_rate  ...  delinq_amnt pub_rec_bankruptcies tax_liens\n",
              "0     5000.0   36 months   10.65%  ...          0.0                  0.0       0.0\n",
              "1     2500.0   60 months   15.27%  ...          0.0                  0.0       0.0\n",
              "2     2400.0   36 months   15.96%  ...          0.0                  0.0       0.0\n",
              "3    10000.0   36 months   13.49%  ...          0.0                  0.0       0.0\n",
              "5     5000.0   36 months    7.90%  ...          0.0                  0.0       0.0\n",
              "\n",
              "[5 rows x 32 columns]"
            ]
          },
          "metadata": {
            "tags": []
          },
          "execution_count": 14
        }
      ]
    },
    {
      "cell_type": "code",
      "metadata": {
        "colab": {
          "base_uri": "https://localhost:8080/"
        },
        "id": "wQoeqUjRgZN_",
        "outputId": "935e4f2c-28fc-489e-9ea5-c016dd38000d"
      },
      "source": [
        "final_df['loan_status'].value_counts()"
      ],
      "execution_count": 15,
      "outputs": [
        {
          "output_type": "execute_result",
          "data": {
            "text/plain": [
              "1    33136\n",
              "0     5634\n",
              "Name: loan_status, dtype: int64"
            ]
          },
          "metadata": {
            "tags": []
          },
          "execution_count": 15
        }
      ]
    },
    {
      "cell_type": "code",
      "metadata": {
        "colab": {
          "base_uri": "https://localhost:8080/"
        },
        "id": "jLoXdDOQgf2D",
        "outputId": "f5860bbb-d62f-45a3-b650-fae55a8150bb"
      },
      "source": [
        "final_df.nunique(dropna= True)"
      ],
      "execution_count": 16,
      "outputs": [
        {
          "output_type": "execute_result",
          "data": {
            "text/plain": [
              "loan_amnt                       870\n",
              "term                              2\n",
              "int_rate                        371\n",
              "installment                   15091\n",
              "emp_length                       11\n",
              "home_ownership                    5\n",
              "annual_inc                     5234\n",
              "verification_status               3\n",
              "loan_status                       2\n",
              "pymnt_plan                        1\n",
              "purpose                          14\n",
              "title                         19365\n",
              "addr_state                       50\n",
              "dti                            2856\n",
              "delinq_2yrs                      11\n",
              "earliest_cr_line                524\n",
              "inq_last_6mths                    9\n",
              "open_acc                         40\n",
              "pub_rec                           5\n",
              "revol_bal                     21348\n",
              "revol_util                     1088\n",
              "total_acc                        82\n",
              "initial_list_status               1\n",
              "last_credit_pull_d              107\n",
              "collections_12_mths_ex_med        1\n",
              "policy_code                       1\n",
              "application_type                  1\n",
              "acc_now_delinq                    1\n",
              "chargeoff_within_12_mths          1\n",
              "delinq_amnt                       1\n",
              "pub_rec_bankruptcies              3\n",
              "tax_liens                         1\n",
              "dtype: int64"
            ]
          },
          "metadata": {
            "tags": []
          },
          "execution_count": 16
        }
      ]
    },
    {
      "cell_type": "markdown",
      "metadata": {
        "id": "lATQgsyQhCde"
      },
      "source": [
        "There are many column which contains only one unique value so we can remove that because that doesnt play any role in predication. see example like"
      ]
    },
    {
      "cell_type": "code",
      "metadata": {
        "colab": {
          "base_uri": "https://localhost:8080/"
        },
        "id": "7o7ESCUag8oF",
        "outputId": "75a78adc-c6d3-4ca7-b3e2-698b2476d974"
      },
      "source": [
        "final_df['tax_liens'].head()"
      ],
      "execution_count": 17,
      "outputs": [
        {
          "output_type": "execute_result",
          "data": {
            "text/plain": [
              "0    0.0\n",
              "1    0.0\n",
              "2    0.0\n",
              "3    0.0\n",
              "5    0.0\n",
              "Name: tax_liens, dtype: float64"
            ]
          },
          "metadata": {
            "tags": []
          },
          "execution_count": 17
        }
      ]
    },
    {
      "cell_type": "code",
      "metadata": {
        "colab": {
          "base_uri": "https://localhost:8080/"
        },
        "id": "wItAAM9QhWyu",
        "outputId": "6f55b0b7-a5a8-4c76-93d1-715c2f7db7ca"
      },
      "source": [
        "drop_columns=[]\n",
        "for column, value in final_df.nunique(dropna=True).items():\n",
        "    if value==1:\n",
        "        drop_columns.append(column)\n",
        "final_df= final_df.drop(drop_columns, axis=1)\n",
        "print(drop_columns)\n",
        "print(len(drop_columns))\n"
      ],
      "execution_count": 18,
      "outputs": [
        {
          "output_type": "stream",
          "text": [
            "['pymnt_plan', 'initial_list_status', 'collections_12_mths_ex_med', 'policy_code', 'application_type', 'acc_now_delinq', 'chargeoff_within_12_mths', 'delinq_amnt', 'tax_liens']\n",
            "9\n"
          ],
          "name": "stdout"
        }
      ]
    },
    {
      "cell_type": "markdown",
      "metadata": {
        "id": "lBcty_XUo-8o"
      },
      "source": [
        "we are able to remove 9 columns which contain sigle kind of  value\n"
      ]
    },
    {
      "cell_type": "code",
      "metadata": {
        "colab": {
          "base_uri": "https://localhost:8080/"
        },
        "id": "eDJPocNwiUOK",
        "outputId": "7c6684aa-fb51-467d-ad6f-fdc836de359c"
      },
      "source": [
        "final_df.shape"
      ],
      "execution_count": 19,
      "outputs": [
        {
          "output_type": "execute_result",
          "data": {
            "text/plain": [
              "(38770, 23)"
            ]
          },
          "metadata": {
            "tags": []
          },
          "execution_count": 19
        }
      ]
    },
    {
      "cell_type": "code",
      "metadata": {
        "id": "w7ygZjmypLU6",
        "colab": {
          "base_uri": "https://localhost:8080/"
        },
        "outputId": "bb1a0285-a447-431e-f8f3-90101d24028b"
      },
      "source": [
        "final_df.isnull().sum()"
      ],
      "execution_count": 20,
      "outputs": [
        {
          "output_type": "execute_result",
          "data": {
            "text/plain": [
              "loan_amnt                  0\n",
              "term                       0\n",
              "int_rate                   0\n",
              "installment                0\n",
              "emp_length              1036\n",
              "home_ownership             0\n",
              "annual_inc                 0\n",
              "verification_status        0\n",
              "loan_status                0\n",
              "purpose                    0\n",
              "title                     11\n",
              "addr_state                 0\n",
              "dti                        0\n",
              "delinq_2yrs                0\n",
              "earliest_cr_line           0\n",
              "inq_last_6mths             0\n",
              "open_acc                   0\n",
              "pub_rec                    0\n",
              "revol_bal                  0\n",
              "revol_util                50\n",
              "total_acc                  0\n",
              "last_credit_pull_d         2\n",
              "pub_rec_bankruptcies     697\n",
              "dtype: int64"
            ]
          },
          "metadata": {
            "tags": []
          },
          "execution_count": 20
        }
      ]
    },
    {
      "cell_type": "markdown",
      "metadata": {
        "id": "VPdoVivUdr1P"
      },
      "source": [
        "emp_length play important role in prediction so we wont remove that column though it has high missing value.\n"
      ]
    },
    {
      "cell_type": "code",
      "metadata": {
        "colab": {
          "base_uri": "https://localhost:8080/"
        },
        "id": "czEVg2ZLdCDv",
        "outputId": "5cc6127a-6073-4945-9d84-bcb003d85e3c"
      },
      "source": [
        "final_df['pub_rec_bankruptcies'].value_counts(dropna= False, normalize=True)"
      ],
      "execution_count": 21,
      "outputs": [
        {
          "output_type": "execute_result",
          "data": {
            "text/plain": [
              "0.0    0.939438\n",
              "1.0    0.042456\n",
              "NaN    0.017978\n",
              "2.0    0.000129\n",
              "Name: pub_rec_bankruptcies, dtype: float64"
            ]
          },
          "metadata": {
            "tags": []
          },
          "execution_count": 21
        }
      ]
    },
    {
      "cell_type": "markdown",
      "metadata": {
        "id": "KLkbL8cTeMi_"
      },
      "source": [
        "here 94% of data point are same type so this doesnt play any role in prediction so we will remove this column and other colummns have less missing value so we will remove that rows containing nan value"
      ]
    },
    {
      "cell_type": "code",
      "metadata": {
        "id": "QcTBd0g0eKlw"
      },
      "source": [
        "final_df= final_df.drop('pub_rec_bankruptcies', axis=1)"
      ],
      "execution_count": 22,
      "outputs": []
    },
    {
      "cell_type": "code",
      "metadata": {
        "id": "hxOzbhshe3O6"
      },
      "source": [
        "final_df= final_df.dropna()"
      ],
      "execution_count": 23,
      "outputs": []
    },
    {
      "cell_type": "code",
      "metadata": {
        "colab": {
          "base_uri": "https://localhost:8080/"
        },
        "id": "0IRh0KzGe7xR",
        "outputId": "e262b0c9-9ab8-438f-ab49-0b6d44c2d424"
      },
      "source": [
        "final_df.dtypes.value_counts()"
      ],
      "execution_count": 24,
      "outputs": [
        {
          "output_type": "execute_result",
          "data": {
            "text/plain": [
              "object     11\n",
              "float64    10\n",
              "int64       1\n",
              "dtype: int64"
            ]
          },
          "metadata": {
            "tags": []
          },
          "execution_count": 24
        }
      ]
    },
    {
      "cell_type": "markdown",
      "metadata": {
        "id": "YL1ecLkofEao"
      },
      "source": [
        "we can see there are 11 object columns which contains text so we have to convert that columns into numerical by one hot or label encoding"
      ]
    },
    {
      "cell_type": "code",
      "metadata": {
        "colab": {
          "base_uri": "https://localhost:8080/",
          "height": 384
        },
        "id": "uGNmNt9jfCy7",
        "outputId": "09f7c774-5774-4761-9298-5eeb31936104"
      },
      "source": [
        "text_df= final_df.select_dtypes(include=['object'])\n",
        "text_df.head()"
      ],
      "execution_count": 25,
      "outputs": [
        {
          "output_type": "execute_result",
          "data": {
            "text/html": [
              "<div>\n",
              "<style scoped>\n",
              "    .dataframe tbody tr th:only-of-type {\n",
              "        vertical-align: middle;\n",
              "    }\n",
              "\n",
              "    .dataframe tbody tr th {\n",
              "        vertical-align: top;\n",
              "    }\n",
              "\n",
              "    .dataframe thead th {\n",
              "        text-align: right;\n",
              "    }\n",
              "</style>\n",
              "<table border=\"1\" class=\"dataframe\">\n",
              "  <thead>\n",
              "    <tr style=\"text-align: right;\">\n",
              "      <th></th>\n",
              "      <th>term</th>\n",
              "      <th>int_rate</th>\n",
              "      <th>emp_length</th>\n",
              "      <th>home_ownership</th>\n",
              "      <th>verification_status</th>\n",
              "      <th>purpose</th>\n",
              "      <th>title</th>\n",
              "      <th>addr_state</th>\n",
              "      <th>earliest_cr_line</th>\n",
              "      <th>revol_util</th>\n",
              "      <th>last_credit_pull_d</th>\n",
              "    </tr>\n",
              "  </thead>\n",
              "  <tbody>\n",
              "    <tr>\n",
              "      <th>0</th>\n",
              "      <td>36 months</td>\n",
              "      <td>10.65%</td>\n",
              "      <td>10+ years</td>\n",
              "      <td>RENT</td>\n",
              "      <td>Verified</td>\n",
              "      <td>credit_card</td>\n",
              "      <td>Computer</td>\n",
              "      <td>AZ</td>\n",
              "      <td>Jan-1985</td>\n",
              "      <td>83.7%</td>\n",
              "      <td>Jun-2016</td>\n",
              "    </tr>\n",
              "    <tr>\n",
              "      <th>1</th>\n",
              "      <td>60 months</td>\n",
              "      <td>15.27%</td>\n",
              "      <td>&lt; 1 year</td>\n",
              "      <td>RENT</td>\n",
              "      <td>Source Verified</td>\n",
              "      <td>car</td>\n",
              "      <td>bike</td>\n",
              "      <td>GA</td>\n",
              "      <td>Apr-1999</td>\n",
              "      <td>9.4%</td>\n",
              "      <td>Sep-2013</td>\n",
              "    </tr>\n",
              "    <tr>\n",
              "      <th>2</th>\n",
              "      <td>36 months</td>\n",
              "      <td>15.96%</td>\n",
              "      <td>10+ years</td>\n",
              "      <td>RENT</td>\n",
              "      <td>Not Verified</td>\n",
              "      <td>small_business</td>\n",
              "      <td>real estate business</td>\n",
              "      <td>IL</td>\n",
              "      <td>Nov-2001</td>\n",
              "      <td>98.5%</td>\n",
              "      <td>Jun-2016</td>\n",
              "    </tr>\n",
              "    <tr>\n",
              "      <th>3</th>\n",
              "      <td>36 months</td>\n",
              "      <td>13.49%</td>\n",
              "      <td>10+ years</td>\n",
              "      <td>RENT</td>\n",
              "      <td>Source Verified</td>\n",
              "      <td>other</td>\n",
              "      <td>personel</td>\n",
              "      <td>CA</td>\n",
              "      <td>Feb-1996</td>\n",
              "      <td>21%</td>\n",
              "      <td>Apr-2016</td>\n",
              "    </tr>\n",
              "    <tr>\n",
              "      <th>5</th>\n",
              "      <td>36 months</td>\n",
              "      <td>7.90%</td>\n",
              "      <td>3 years</td>\n",
              "      <td>RENT</td>\n",
              "      <td>Source Verified</td>\n",
              "      <td>wedding</td>\n",
              "      <td>My wedding loan I promise to pay back</td>\n",
              "      <td>AZ</td>\n",
              "      <td>Nov-2004</td>\n",
              "      <td>28.3%</td>\n",
              "      <td>Jan-2016</td>\n",
              "    </tr>\n",
              "  </tbody>\n",
              "</table>\n",
              "</div>"
            ],
            "text/plain": [
              "         term int_rate  ... revol_util last_credit_pull_d\n",
              "0   36 months   10.65%  ...      83.7%           Jun-2016\n",
              "1   60 months   15.27%  ...       9.4%           Sep-2013\n",
              "2   36 months   15.96%  ...      98.5%           Jun-2016\n",
              "3   36 months   13.49%  ...        21%           Apr-2016\n",
              "5   36 months    7.90%  ...      28.3%           Jan-2016\n",
              "\n",
              "[5 rows x 11 columns]"
            ]
          },
          "metadata": {
            "tags": []
          },
          "execution_count": 25
        }
      ]
    },
    {
      "cell_type": "code",
      "metadata": {
        "colab": {
          "base_uri": "https://localhost:8080/"
        },
        "id": "U03_jMEnf2e6",
        "outputId": "8aacc287-3fa0-4aaf-96b3-9e25f3640084"
      },
      "source": [
        "text_df.iloc[0]"
      ],
      "execution_count": 26,
      "outputs": [
        {
          "output_type": "execute_result",
          "data": {
            "text/plain": [
              "term                     36 months\n",
              "int_rate                    10.65%\n",
              "emp_length               10+ years\n",
              "home_ownership                RENT\n",
              "verification_status       Verified\n",
              "purpose                credit_card\n",
              "title                     Computer\n",
              "addr_state                      AZ\n",
              "earliest_cr_line          Jan-1985\n",
              "revol_util                   83.7%\n",
              "last_credit_pull_d        Jun-2016\n",
              "Name: 0, dtype: object"
            ]
          },
          "metadata": {
            "tags": []
          },
          "execution_count": 26
        }
      ]
    },
    {
      "cell_type": "code",
      "metadata": {
        "colab": {
          "base_uri": "https://localhost:8080/"
        },
        "id": "kQ6Cwp6PgfTP",
        "outputId": "3ad4f241-93ee-4b55-e998-32ba0633f9f8"
      },
      "source": [
        "cols = ['home_ownership', 'verification_status', 'emp_length', 'term', 'addr_state']\n",
        "for col in cols:\n",
        "    print(final_df[col].value_counts())"
      ],
      "execution_count": 27,
      "outputs": [
        {
          "output_type": "stream",
          "text": [
            "RENT        18112\n",
            "MORTGAGE    16686\n",
            "OWN          2778\n",
            "OTHER          96\n",
            "NONE            3\n",
            "Name: home_ownership, dtype: int64\n",
            "Not Verified       16281\n",
            "Verified           11856\n",
            "Source Verified     9538\n",
            "Name: verification_status, dtype: int64\n",
            "10+ years    8545\n",
            "< 1 year     4513\n",
            "2 years      4303\n",
            "3 years      4022\n",
            "4 years      3353\n",
            "5 years      3202\n",
            "1 year       3176\n",
            "6 years      2177\n",
            "7 years      1714\n",
            "8 years      1442\n",
            "9 years      1228\n",
            "Name: emp_length, dtype: int64\n",
            " 36 months    28234\n",
            " 60 months     9441\n",
            "Name: term, dtype: int64\n",
            "CA    6776\n",
            "NY    3614\n",
            "FL    2704\n",
            "TX    2613\n",
            "NJ    1776\n",
            "IL    1447\n",
            "PA    1442\n",
            "VA    1347\n",
            "GA    1323\n",
            "MA    1272\n",
            "OH    1149\n",
            "MD    1008\n",
            "AZ     807\n",
            "WA     788\n",
            "CO     748\n",
            "NC     729\n",
            "CT     711\n",
            "MI     678\n",
            "MO     648\n",
            "MN     581\n",
            "NV     466\n",
            "SC     454\n",
            "WI     427\n",
            "OR     422\n",
            "LA     420\n",
            "AL     420\n",
            "KY     311\n",
            "OK     285\n",
            "UT     249\n",
            "KS     249\n",
            "AR     229\n",
            "DC     209\n",
            "RI     194\n",
            "NM     180\n",
            "WV     164\n",
            "HI     162\n",
            "NH     157\n",
            "DE     110\n",
            "MT      77\n",
            "WY      76\n",
            "AK      76\n",
            "SD      60\n",
            "VT      53\n",
            "MS      19\n",
            "TN      17\n",
            "IN       9\n",
            "ID       6\n",
            "NE       5\n",
            "IA       5\n",
            "ME       3\n",
            "Name: addr_state, dtype: int64\n"
          ],
          "name": "stdout"
        }
      ]
    },
    {
      "cell_type": "code",
      "metadata": {
        "id": "jchIjIfOqMAE"
      },
      "source": [
        "mapping_dict = {\n",
        "    \"emp_length\": {\n",
        "        \"10+ years\": 10,\n",
        "        \"9 years\": 9,\n",
        "        \"8 years\": 8,\n",
        "        \"7 years\": 7,\n",
        "        \"6 years\": 6,\n",
        "        \"5 years\": 5,\n",
        "        \"4 years\": 4,\n",
        "        \"3 years\": 3,\n",
        "        \"2 years\": 2,\n",
        "        \"1 year\": 1,\n",
        "        \"< 1 year\": 0,\n",
        "        \"n/a\": 0\n",
        "    }\n",
        "}\n",
        "\n"
      ],
      "execution_count": 28,
      "outputs": []
    },
    {
      "cell_type": "code",
      "metadata": {
        "id": "FcF8O2ebsNwW"
      },
      "source": [
        "final_df= final_df.drop(['last_credit_pull_d', 'addr_state', 'title', 'earliest_cr_line'], axis=1)\n"
      ],
      "execution_count": 29,
      "outputs": []
    },
    {
      "cell_type": "code",
      "metadata": {
        "id": "TuIuQqttsP4F"
      },
      "source": [
        "final_df['int_rate']= final_df['int_rate'].str.replace('%', '').str.strip().astype('float')"
      ],
      "execution_count": 30,
      "outputs": []
    },
    {
      "cell_type": "code",
      "metadata": {
        "colab": {
          "base_uri": "https://localhost:8080/"
        },
        "id": "HOqPdC_ssaBc",
        "outputId": "491a305b-4628-4e27-c372-2c1a1b3b5a4a"
      },
      "source": [
        "final_df['int_rate'].dtypes"
      ],
      "execution_count": 31,
      "outputs": [
        {
          "output_type": "execute_result",
          "data": {
            "text/plain": [
              "dtype('float64')"
            ]
          },
          "metadata": {
            "tags": []
          },
          "execution_count": 31
        }
      ]
    },
    {
      "cell_type": "code",
      "metadata": {
        "colab": {
          "base_uri": "https://localhost:8080/"
        },
        "id": "tPZJ8un3sf9K",
        "outputId": "51be12c8-117e-4df8-9293-217d96a00cd3"
      },
      "source": [
        "final_df['int_rate'].value_counts()"
      ],
      "execution_count": 32,
      "outputs": [
        {
          "output_type": "execute_result",
          "data": {
            "text/plain": [
              "10.99    906\n",
              "11.49    770\n",
              "7.51     756\n",
              "13.49    747\n",
              "7.88     701\n",
              "        ... \n",
              "18.72      1\n",
              "16.33      1\n",
              "17.34      1\n",
              "13.84      1\n",
              "17.54      1\n",
              "Name: int_rate, Length: 371, dtype: int64"
            ]
          },
          "metadata": {
            "tags": []
          },
          "execution_count": 32
        }
      ]
    },
    {
      "cell_type": "code",
      "metadata": {
        "id": "_TGG4mUHsmXD"
      },
      "source": [
        "final_df['revol_util']= final_df['revol_util'].str.replace('%', '').str.strip().astype('float')"
      ],
      "execution_count": 33,
      "outputs": []
    },
    {
      "cell_type": "code",
      "metadata": {
        "colab": {
          "base_uri": "https://localhost:8080/",
          "height": 301
        },
        "id": "CLEDAC4ktCoK",
        "outputId": "a2a69286-edee-4687-e5e2-fd40732bd52b"
      },
      "source": [
        "final_df= final_df.replace(mapping_dict)\n",
        "final_df.head()"
      ],
      "execution_count": 34,
      "outputs": [
        {
          "output_type": "execute_result",
          "data": {
            "text/html": [
              "<div>\n",
              "<style scoped>\n",
              "    .dataframe tbody tr th:only-of-type {\n",
              "        vertical-align: middle;\n",
              "    }\n",
              "\n",
              "    .dataframe tbody tr th {\n",
              "        vertical-align: top;\n",
              "    }\n",
              "\n",
              "    .dataframe thead th {\n",
              "        text-align: right;\n",
              "    }\n",
              "</style>\n",
              "<table border=\"1\" class=\"dataframe\">\n",
              "  <thead>\n",
              "    <tr style=\"text-align: right;\">\n",
              "      <th></th>\n",
              "      <th>loan_amnt</th>\n",
              "      <th>term</th>\n",
              "      <th>int_rate</th>\n",
              "      <th>installment</th>\n",
              "      <th>emp_length</th>\n",
              "      <th>home_ownership</th>\n",
              "      <th>annual_inc</th>\n",
              "      <th>verification_status</th>\n",
              "      <th>loan_status</th>\n",
              "      <th>purpose</th>\n",
              "      <th>dti</th>\n",
              "      <th>delinq_2yrs</th>\n",
              "      <th>inq_last_6mths</th>\n",
              "      <th>open_acc</th>\n",
              "      <th>pub_rec</th>\n",
              "      <th>revol_bal</th>\n",
              "      <th>revol_util</th>\n",
              "      <th>total_acc</th>\n",
              "    </tr>\n",
              "  </thead>\n",
              "  <tbody>\n",
              "    <tr>\n",
              "      <th>0</th>\n",
              "      <td>5000.0</td>\n",
              "      <td>36 months</td>\n",
              "      <td>10.65</td>\n",
              "      <td>162.87</td>\n",
              "      <td>10</td>\n",
              "      <td>RENT</td>\n",
              "      <td>24000.0</td>\n",
              "      <td>Verified</td>\n",
              "      <td>1</td>\n",
              "      <td>credit_card</td>\n",
              "      <td>27.65</td>\n",
              "      <td>0.0</td>\n",
              "      <td>1.0</td>\n",
              "      <td>3.0</td>\n",
              "      <td>0.0</td>\n",
              "      <td>13648.0</td>\n",
              "      <td>83.7</td>\n",
              "      <td>9.0</td>\n",
              "    </tr>\n",
              "    <tr>\n",
              "      <th>1</th>\n",
              "      <td>2500.0</td>\n",
              "      <td>60 months</td>\n",
              "      <td>15.27</td>\n",
              "      <td>59.83</td>\n",
              "      <td>0</td>\n",
              "      <td>RENT</td>\n",
              "      <td>30000.0</td>\n",
              "      <td>Source Verified</td>\n",
              "      <td>0</td>\n",
              "      <td>car</td>\n",
              "      <td>1.00</td>\n",
              "      <td>0.0</td>\n",
              "      <td>5.0</td>\n",
              "      <td>3.0</td>\n",
              "      <td>0.0</td>\n",
              "      <td>1687.0</td>\n",
              "      <td>9.4</td>\n",
              "      <td>4.0</td>\n",
              "    </tr>\n",
              "    <tr>\n",
              "      <th>2</th>\n",
              "      <td>2400.0</td>\n",
              "      <td>36 months</td>\n",
              "      <td>15.96</td>\n",
              "      <td>84.33</td>\n",
              "      <td>10</td>\n",
              "      <td>RENT</td>\n",
              "      <td>12252.0</td>\n",
              "      <td>Not Verified</td>\n",
              "      <td>1</td>\n",
              "      <td>small_business</td>\n",
              "      <td>8.72</td>\n",
              "      <td>0.0</td>\n",
              "      <td>2.0</td>\n",
              "      <td>2.0</td>\n",
              "      <td>0.0</td>\n",
              "      <td>2956.0</td>\n",
              "      <td>98.5</td>\n",
              "      <td>10.0</td>\n",
              "    </tr>\n",
              "    <tr>\n",
              "      <th>3</th>\n",
              "      <td>10000.0</td>\n",
              "      <td>36 months</td>\n",
              "      <td>13.49</td>\n",
              "      <td>339.31</td>\n",
              "      <td>10</td>\n",
              "      <td>RENT</td>\n",
              "      <td>49200.0</td>\n",
              "      <td>Source Verified</td>\n",
              "      <td>1</td>\n",
              "      <td>other</td>\n",
              "      <td>20.00</td>\n",
              "      <td>0.0</td>\n",
              "      <td>1.0</td>\n",
              "      <td>10.0</td>\n",
              "      <td>0.0</td>\n",
              "      <td>5598.0</td>\n",
              "      <td>21.0</td>\n",
              "      <td>37.0</td>\n",
              "    </tr>\n",
              "    <tr>\n",
              "      <th>5</th>\n",
              "      <td>5000.0</td>\n",
              "      <td>36 months</td>\n",
              "      <td>7.90</td>\n",
              "      <td>156.46</td>\n",
              "      <td>3</td>\n",
              "      <td>RENT</td>\n",
              "      <td>36000.0</td>\n",
              "      <td>Source Verified</td>\n",
              "      <td>1</td>\n",
              "      <td>wedding</td>\n",
              "      <td>11.20</td>\n",
              "      <td>0.0</td>\n",
              "      <td>3.0</td>\n",
              "      <td>9.0</td>\n",
              "      <td>0.0</td>\n",
              "      <td>7963.0</td>\n",
              "      <td>28.3</td>\n",
              "      <td>12.0</td>\n",
              "    </tr>\n",
              "  </tbody>\n",
              "</table>\n",
              "</div>"
            ],
            "text/plain": [
              "   loan_amnt        term  int_rate  ...  revol_bal  revol_util total_acc\n",
              "0     5000.0   36 months     10.65  ...    13648.0        83.7       9.0\n",
              "1     2500.0   60 months     15.27  ...     1687.0         9.4       4.0\n",
              "2     2400.0   36 months     15.96  ...     2956.0        98.5      10.0\n",
              "3    10000.0   36 months     13.49  ...     5598.0        21.0      37.0\n",
              "5     5000.0   36 months      7.90  ...     7963.0        28.3      12.0\n",
              "\n",
              "[5 rows x 18 columns]"
            ]
          },
          "metadata": {
            "tags": []
          },
          "execution_count": 34
        }
      ]
    },
    {
      "cell_type": "code",
      "metadata": {
        "id": "DDdjpR6etc_A",
        "colab": {
          "base_uri": "https://localhost:8080/"
        },
        "outputId": "5b571f95-0624-4423-e2e3-eab10bcd6f0e"
      },
      "source": [
        "final_df.info()"
      ],
      "execution_count": 35,
      "outputs": [
        {
          "output_type": "stream",
          "text": [
            "<class 'pandas.core.frame.DataFrame'>\n",
            "Int64Index: 37675 entries, 0 to 39785\n",
            "Data columns (total 18 columns):\n",
            " #   Column               Non-Null Count  Dtype  \n",
            "---  ------               --------------  -----  \n",
            " 0   loan_amnt            37675 non-null  float64\n",
            " 1   term                 37675 non-null  object \n",
            " 2   int_rate             37675 non-null  float64\n",
            " 3   installment          37675 non-null  float64\n",
            " 4   emp_length           37675 non-null  int64  \n",
            " 5   home_ownership       37675 non-null  object \n",
            " 6   annual_inc           37675 non-null  float64\n",
            " 7   verification_status  37675 non-null  object \n",
            " 8   loan_status          37675 non-null  int64  \n",
            " 9   purpose              37675 non-null  object \n",
            " 10  dti                  37675 non-null  float64\n",
            " 11  delinq_2yrs          37675 non-null  float64\n",
            " 12  inq_last_6mths       37675 non-null  float64\n",
            " 13  open_acc             37675 non-null  float64\n",
            " 14  pub_rec              37675 non-null  float64\n",
            " 15  revol_bal            37675 non-null  float64\n",
            " 16  revol_util           37675 non-null  float64\n",
            " 17  total_acc            37675 non-null  float64\n",
            "dtypes: float64(12), int64(2), object(4)\n",
            "memory usage: 5.5+ MB\n"
          ],
          "name": "stdout"
        }
      ]
    },
    {
      "cell_type": "code",
      "metadata": {
        "colab": {
          "base_uri": "https://localhost:8080/"
        },
        "id": "wmt44wtZxWWB",
        "outputId": "0dfb5b4e-1007-4475-a2aa-36b27de83d72"
      },
      "source": [
        "texts_df= final_df.select_dtypes(include=['object'])\n",
        "columns= texts_df.columns\n",
        "columns"
      ],
      "execution_count": 36,
      "outputs": [
        {
          "output_type": "execute_result",
          "data": {
            "text/plain": [
              "Index(['term', 'home_ownership', 'verification_status', 'purpose'], dtype='object')"
            ]
          },
          "metadata": {
            "tags": []
          },
          "execution_count": 36
        }
      ]
    },
    {
      "cell_type": "code",
      "metadata": {
        "colab": {
          "base_uri": "https://localhost:8080/",
          "height": 251
        },
        "id": "sKqs9v_Ixuou",
        "outputId": "5ac9876d-c333-4852-97f2-da8b7e358001"
      },
      "source": [
        "dummy_df= pd.get_dummies(final_df[columns])\n",
        "final_df= pd.concat([final_df, dummy_df], axis=1)\n",
        "final_df= final_df.drop(columns, axis=1)\n",
        "final_df.head()"
      ],
      "execution_count": 37,
      "outputs": [
        {
          "output_type": "execute_result",
          "data": {
            "text/html": [
              "<div>\n",
              "<style scoped>\n",
              "    .dataframe tbody tr th:only-of-type {\n",
              "        vertical-align: middle;\n",
              "    }\n",
              "\n",
              "    .dataframe tbody tr th {\n",
              "        vertical-align: top;\n",
              "    }\n",
              "\n",
              "    .dataframe thead th {\n",
              "        text-align: right;\n",
              "    }\n",
              "</style>\n",
              "<table border=\"1\" class=\"dataframe\">\n",
              "  <thead>\n",
              "    <tr style=\"text-align: right;\">\n",
              "      <th></th>\n",
              "      <th>loan_amnt</th>\n",
              "      <th>int_rate</th>\n",
              "      <th>installment</th>\n",
              "      <th>emp_length</th>\n",
              "      <th>annual_inc</th>\n",
              "      <th>loan_status</th>\n",
              "      <th>dti</th>\n",
              "      <th>delinq_2yrs</th>\n",
              "      <th>inq_last_6mths</th>\n",
              "      <th>open_acc</th>\n",
              "      <th>pub_rec</th>\n",
              "      <th>revol_bal</th>\n",
              "      <th>revol_util</th>\n",
              "      <th>total_acc</th>\n",
              "      <th>term_ 36 months</th>\n",
              "      <th>term_ 60 months</th>\n",
              "      <th>home_ownership_MORTGAGE</th>\n",
              "      <th>home_ownership_NONE</th>\n",
              "      <th>home_ownership_OTHER</th>\n",
              "      <th>home_ownership_OWN</th>\n",
              "      <th>home_ownership_RENT</th>\n",
              "      <th>verification_status_Not Verified</th>\n",
              "      <th>verification_status_Source Verified</th>\n",
              "      <th>verification_status_Verified</th>\n",
              "      <th>purpose_car</th>\n",
              "      <th>purpose_credit_card</th>\n",
              "      <th>purpose_debt_consolidation</th>\n",
              "      <th>purpose_educational</th>\n",
              "      <th>purpose_home_improvement</th>\n",
              "      <th>purpose_house</th>\n",
              "      <th>purpose_major_purchase</th>\n",
              "      <th>purpose_medical</th>\n",
              "      <th>purpose_moving</th>\n",
              "      <th>purpose_other</th>\n",
              "      <th>purpose_renewable_energy</th>\n",
              "      <th>purpose_small_business</th>\n",
              "      <th>purpose_vacation</th>\n",
              "      <th>purpose_wedding</th>\n",
              "    </tr>\n",
              "  </thead>\n",
              "  <tbody>\n",
              "    <tr>\n",
              "      <th>0</th>\n",
              "      <td>5000.0</td>\n",
              "      <td>10.65</td>\n",
              "      <td>162.87</td>\n",
              "      <td>10</td>\n",
              "      <td>24000.0</td>\n",
              "      <td>1</td>\n",
              "      <td>27.65</td>\n",
              "      <td>0.0</td>\n",
              "      <td>1.0</td>\n",
              "      <td>3.0</td>\n",
              "      <td>0.0</td>\n",
              "      <td>13648.0</td>\n",
              "      <td>83.7</td>\n",
              "      <td>9.0</td>\n",
              "      <td>1</td>\n",
              "      <td>0</td>\n",
              "      <td>0</td>\n",
              "      <td>0</td>\n",
              "      <td>0</td>\n",
              "      <td>0</td>\n",
              "      <td>1</td>\n",
              "      <td>0</td>\n",
              "      <td>0</td>\n",
              "      <td>1</td>\n",
              "      <td>0</td>\n",
              "      <td>1</td>\n",
              "      <td>0</td>\n",
              "      <td>0</td>\n",
              "      <td>0</td>\n",
              "      <td>0</td>\n",
              "      <td>0</td>\n",
              "      <td>0</td>\n",
              "      <td>0</td>\n",
              "      <td>0</td>\n",
              "      <td>0</td>\n",
              "      <td>0</td>\n",
              "      <td>0</td>\n",
              "      <td>0</td>\n",
              "    </tr>\n",
              "    <tr>\n",
              "      <th>1</th>\n",
              "      <td>2500.0</td>\n",
              "      <td>15.27</td>\n",
              "      <td>59.83</td>\n",
              "      <td>0</td>\n",
              "      <td>30000.0</td>\n",
              "      <td>0</td>\n",
              "      <td>1.00</td>\n",
              "      <td>0.0</td>\n",
              "      <td>5.0</td>\n",
              "      <td>3.0</td>\n",
              "      <td>0.0</td>\n",
              "      <td>1687.0</td>\n",
              "      <td>9.4</td>\n",
              "      <td>4.0</td>\n",
              "      <td>0</td>\n",
              "      <td>1</td>\n",
              "      <td>0</td>\n",
              "      <td>0</td>\n",
              "      <td>0</td>\n",
              "      <td>0</td>\n",
              "      <td>1</td>\n",
              "      <td>0</td>\n",
              "      <td>1</td>\n",
              "      <td>0</td>\n",
              "      <td>1</td>\n",
              "      <td>0</td>\n",
              "      <td>0</td>\n",
              "      <td>0</td>\n",
              "      <td>0</td>\n",
              "      <td>0</td>\n",
              "      <td>0</td>\n",
              "      <td>0</td>\n",
              "      <td>0</td>\n",
              "      <td>0</td>\n",
              "      <td>0</td>\n",
              "      <td>0</td>\n",
              "      <td>0</td>\n",
              "      <td>0</td>\n",
              "    </tr>\n",
              "    <tr>\n",
              "      <th>2</th>\n",
              "      <td>2400.0</td>\n",
              "      <td>15.96</td>\n",
              "      <td>84.33</td>\n",
              "      <td>10</td>\n",
              "      <td>12252.0</td>\n",
              "      <td>1</td>\n",
              "      <td>8.72</td>\n",
              "      <td>0.0</td>\n",
              "      <td>2.0</td>\n",
              "      <td>2.0</td>\n",
              "      <td>0.0</td>\n",
              "      <td>2956.0</td>\n",
              "      <td>98.5</td>\n",
              "      <td>10.0</td>\n",
              "      <td>1</td>\n",
              "      <td>0</td>\n",
              "      <td>0</td>\n",
              "      <td>0</td>\n",
              "      <td>0</td>\n",
              "      <td>0</td>\n",
              "      <td>1</td>\n",
              "      <td>1</td>\n",
              "      <td>0</td>\n",
              "      <td>0</td>\n",
              "      <td>0</td>\n",
              "      <td>0</td>\n",
              "      <td>0</td>\n",
              "      <td>0</td>\n",
              "      <td>0</td>\n",
              "      <td>0</td>\n",
              "      <td>0</td>\n",
              "      <td>0</td>\n",
              "      <td>0</td>\n",
              "      <td>0</td>\n",
              "      <td>0</td>\n",
              "      <td>1</td>\n",
              "      <td>0</td>\n",
              "      <td>0</td>\n",
              "    </tr>\n",
              "    <tr>\n",
              "      <th>3</th>\n",
              "      <td>10000.0</td>\n",
              "      <td>13.49</td>\n",
              "      <td>339.31</td>\n",
              "      <td>10</td>\n",
              "      <td>49200.0</td>\n",
              "      <td>1</td>\n",
              "      <td>20.00</td>\n",
              "      <td>0.0</td>\n",
              "      <td>1.0</td>\n",
              "      <td>10.0</td>\n",
              "      <td>0.0</td>\n",
              "      <td>5598.0</td>\n",
              "      <td>21.0</td>\n",
              "      <td>37.0</td>\n",
              "      <td>1</td>\n",
              "      <td>0</td>\n",
              "      <td>0</td>\n",
              "      <td>0</td>\n",
              "      <td>0</td>\n",
              "      <td>0</td>\n",
              "      <td>1</td>\n",
              "      <td>0</td>\n",
              "      <td>1</td>\n",
              "      <td>0</td>\n",
              "      <td>0</td>\n",
              "      <td>0</td>\n",
              "      <td>0</td>\n",
              "      <td>0</td>\n",
              "      <td>0</td>\n",
              "      <td>0</td>\n",
              "      <td>0</td>\n",
              "      <td>0</td>\n",
              "      <td>0</td>\n",
              "      <td>1</td>\n",
              "      <td>0</td>\n",
              "      <td>0</td>\n",
              "      <td>0</td>\n",
              "      <td>0</td>\n",
              "    </tr>\n",
              "    <tr>\n",
              "      <th>5</th>\n",
              "      <td>5000.0</td>\n",
              "      <td>7.90</td>\n",
              "      <td>156.46</td>\n",
              "      <td>3</td>\n",
              "      <td>36000.0</td>\n",
              "      <td>1</td>\n",
              "      <td>11.20</td>\n",
              "      <td>0.0</td>\n",
              "      <td>3.0</td>\n",
              "      <td>9.0</td>\n",
              "      <td>0.0</td>\n",
              "      <td>7963.0</td>\n",
              "      <td>28.3</td>\n",
              "      <td>12.0</td>\n",
              "      <td>1</td>\n",
              "      <td>0</td>\n",
              "      <td>0</td>\n",
              "      <td>0</td>\n",
              "      <td>0</td>\n",
              "      <td>0</td>\n",
              "      <td>1</td>\n",
              "      <td>0</td>\n",
              "      <td>1</td>\n",
              "      <td>0</td>\n",
              "      <td>0</td>\n",
              "      <td>0</td>\n",
              "      <td>0</td>\n",
              "      <td>0</td>\n",
              "      <td>0</td>\n",
              "      <td>0</td>\n",
              "      <td>0</td>\n",
              "      <td>0</td>\n",
              "      <td>0</td>\n",
              "      <td>0</td>\n",
              "      <td>0</td>\n",
              "      <td>0</td>\n",
              "      <td>0</td>\n",
              "      <td>1</td>\n",
              "    </tr>\n",
              "  </tbody>\n",
              "</table>\n",
              "</div>"
            ],
            "text/plain": [
              "   loan_amnt  int_rate  ...  purpose_vacation  purpose_wedding\n",
              "0     5000.0     10.65  ...                 0                0\n",
              "1     2500.0     15.27  ...                 0                0\n",
              "2     2400.0     15.96  ...                 0                0\n",
              "3    10000.0     13.49  ...                 0                0\n",
              "5     5000.0      7.90  ...                 0                1\n",
              "\n",
              "[5 rows x 38 columns]"
            ]
          },
          "metadata": {
            "tags": []
          },
          "execution_count": 37
        }
      ]
    },
    {
      "cell_type": "code",
      "metadata": {
        "colab": {
          "base_uri": "https://localhost:8080/"
        },
        "id": "rmZ8qQ3myt12",
        "outputId": "ad2bb19d-0d63-42df-8117-dccf3f61a68c"
      },
      "source": [
        "final_df.shape"
      ],
      "execution_count": 38,
      "outputs": [
        {
          "output_type": "execute_result",
          "data": {
            "text/plain": [
              "(37675, 38)"
            ]
          },
          "metadata": {
            "tags": []
          },
          "execution_count": 38
        }
      ]
    },
    {
      "cell_type": "markdown",
      "metadata": {
        "id": "QIQXkgwPzbBL"
      },
      "source": [
        "Now we are going to machine learning work"
      ]
    },
    {
      "cell_type": "code",
      "metadata": {
        "colab": {
          "base_uri": "https://localhost:8080/"
        },
        "id": "dPfpoWkizFGP",
        "outputId": "715bb72c-c3f0-4513-b27c-b178271dfdb2"
      },
      "source": [
        "final_df.info()"
      ],
      "execution_count": 39,
      "outputs": [
        {
          "output_type": "stream",
          "text": [
            "<class 'pandas.core.frame.DataFrame'>\n",
            "Int64Index: 37675 entries, 0 to 39785\n",
            "Data columns (total 38 columns):\n",
            " #   Column                               Non-Null Count  Dtype  \n",
            "---  ------                               --------------  -----  \n",
            " 0   loan_amnt                            37675 non-null  float64\n",
            " 1   int_rate                             37675 non-null  float64\n",
            " 2   installment                          37675 non-null  float64\n",
            " 3   emp_length                           37675 non-null  int64  \n",
            " 4   annual_inc                           37675 non-null  float64\n",
            " 5   loan_status                          37675 non-null  int64  \n",
            " 6   dti                                  37675 non-null  float64\n",
            " 7   delinq_2yrs                          37675 non-null  float64\n",
            " 8   inq_last_6mths                       37675 non-null  float64\n",
            " 9   open_acc                             37675 non-null  float64\n",
            " 10  pub_rec                              37675 non-null  float64\n",
            " 11  revol_bal                            37675 non-null  float64\n",
            " 12  revol_util                           37675 non-null  float64\n",
            " 13  total_acc                            37675 non-null  float64\n",
            " 14  term_ 36 months                      37675 non-null  uint8  \n",
            " 15  term_ 60 months                      37675 non-null  uint8  \n",
            " 16  home_ownership_MORTGAGE              37675 non-null  uint8  \n",
            " 17  home_ownership_NONE                  37675 non-null  uint8  \n",
            " 18  home_ownership_OTHER                 37675 non-null  uint8  \n",
            " 19  home_ownership_OWN                   37675 non-null  uint8  \n",
            " 20  home_ownership_RENT                  37675 non-null  uint8  \n",
            " 21  verification_status_Not Verified     37675 non-null  uint8  \n",
            " 22  verification_status_Source Verified  37675 non-null  uint8  \n",
            " 23  verification_status_Verified         37675 non-null  uint8  \n",
            " 24  purpose_car                          37675 non-null  uint8  \n",
            " 25  purpose_credit_card                  37675 non-null  uint8  \n",
            " 26  purpose_debt_consolidation           37675 non-null  uint8  \n",
            " 27  purpose_educational                  37675 non-null  uint8  \n",
            " 28  purpose_home_improvement             37675 non-null  uint8  \n",
            " 29  purpose_house                        37675 non-null  uint8  \n",
            " 30  purpose_major_purchase               37675 non-null  uint8  \n",
            " 31  purpose_medical                      37675 non-null  uint8  \n",
            " 32  purpose_moving                       37675 non-null  uint8  \n",
            " 33  purpose_other                        37675 non-null  uint8  \n",
            " 34  purpose_renewable_energy             37675 non-null  uint8  \n",
            " 35  purpose_small_business               37675 non-null  uint8  \n",
            " 36  purpose_vacation                     37675 non-null  uint8  \n",
            " 37  purpose_wedding                      37675 non-null  uint8  \n",
            "dtypes: float64(12), int64(2), uint8(24)\n",
            "memory usage: 5.2 MB\n"
          ],
          "name": "stdout"
        }
      ]
    },
    {
      "cell_type": "code",
      "metadata": {
        "colab": {
          "base_uri": "https://localhost:8080/"
        },
        "id": "tasvIdDGz9LI",
        "outputId": "d52bb14a-fd73-419e-e651-94e39d5b6bf8"
      },
      "source": [
        "round((final_df['loan_status'].value_counts()/final_df.shape[0])*100, 2)  #in percantages"
      ],
      "execution_count": 40,
      "outputs": [
        {
          "output_type": "execute_result",
          "data": {
            "text/plain": [
              "1    85.7\n",
              "0    14.3\n",
              "Name: loan_status, dtype: float64"
            ]
          },
          "metadata": {
            "tags": []
          },
          "execution_count": 40
        }
      ]
    },
    {
      "cell_type": "markdown",
      "metadata": {
        "id": "YB19mYGu1sO1"
      },
      "source": [
        "This is inbalance dataset because  in percentage of two class there is huge difference"
      ]
    },
    {
      "cell_type": "code",
      "metadata": {
        "id": "DyLnSHZX1nl9",
        "colab": {
          "base_uri": "https://localhost:8080/"
        },
        "outputId": "422fd5cf-aa77-4b6b-8c3d-538afb199076"
      },
      "source": [
        "\n",
        "# Predict that all loans will be paid off on time.\n",
        "predictions = pd.Series(np.ones(final_df.shape[0]))\n",
        "predictions.head()"
      ],
      "execution_count": 42,
      "outputs": [
        {
          "output_type": "execute_result",
          "data": {
            "text/plain": [
              "0    1.0\n",
              "1    1.0\n",
              "2    1.0\n",
              "3    1.0\n",
              "4    1.0\n",
              "dtype: float64"
            ]
          },
          "metadata": {
            "tags": []
          },
          "execution_count": 42
        }
      ]
    },
    {
      "cell_type": "code",
      "metadata": {
        "colab": {
          "base_uri": "https://localhost:8080/"
        },
        "id": "0DJTHN-VJ0qy",
        "outputId": "b492e392-096d-45ad-d4fa-4563b0729e13"
      },
      "source": [
        "tp= len(predictions[(predictions==1) & (final_df['loan_status']==1)])\n",
        "tn= len(predictions[(predictions==0) & (final_df['loan_status']==0)])\n",
        "fp= len(predictions[(predictions==1) & (final_df['loan_status']==0)])\n",
        "fn= len(predictions[(predictions==0) & (final_df['loan_status']==1)])\n",
        "\n",
        "fpr = fp/(fp+tn)\n",
        "tpr= tp/(tp+fn)\n",
        "print(fpr, tpr)"
      ],
      "execution_count": 43,
      "outputs": [
        {
          "output_type": "stream",
          "text": [
            "1.0 1.0\n"
          ],
          "name": "stdout"
        }
      ]
    },
    {
      "cell_type": "code",
      "metadata": {
        "id": "JKsquGtkJ7sN"
      },
      "source": [
        "from sklearn.linear_model import LogisticRegression\n",
        "lr = LogisticRegression(max_iter=1000)\n",
        "features = final_df.drop('loan_status', axis=1)\n",
        "target= final_df['loan_status']\n",
        "lr.fit(features, target)\n",
        "predictions= lr.predict(features)"
      ],
      "execution_count": 48,
      "outputs": []
    },
    {
      "cell_type": "code",
      "metadata": {
        "colab": {
          "base_uri": "https://localhost:8080/"
        },
        "id": "om7XQnzyLteN",
        "outputId": "cad51b5e-b5a0-4cc2-bafb-a072ff9224cd"
      },
      "source": [
        "from sklearn.metrics import accuracy_score\n",
        "accuracy_score(final_df['loan_status'], predictions)"
      ],
      "execution_count": 49,
      "outputs": [
        {
          "output_type": "execute_result",
          "data": {
            "text/plain": [
              "0.8562707365627074"
            ]
          },
          "metadata": {
            "tags": []
          },
          "execution_count": 49
        }
      ]
    },
    {
      "cell_type": "code",
      "metadata": {
        "colab": {
          "base_uri": "https://localhost:8080/"
        },
        "id": "MU7IUr6kOGow",
        "outputId": "fa7986d1-f756-4015-8c4e-6a16c8c8aa0f"
      },
      "source": [
        "from sklearn.model_selection import cross_val_predict\n",
        "lr = LogisticRegression(max_iter=1000)\n",
        "predictions= cross_val_predict(lr, features, target, cv= 3)\n",
        "predictions= pd.Series(predictions)\n",
        "predictions.head()"
      ],
      "execution_count": 56,
      "outputs": [
        {
          "output_type": "execute_result",
          "data": {
            "text/plain": [
              "0    1\n",
              "1    1\n",
              "2    1\n",
              "3    1\n",
              "4    1\n",
              "dtype: int64"
            ]
          },
          "metadata": {
            "tags": []
          },
          "execution_count": 56
        }
      ]
    },
    {
      "cell_type": "code",
      "metadata": {
        "colab": {
          "base_uri": "https://localhost:8080/"
        },
        "id": "q_6dpW-lOiLL",
        "outputId": "a28f44f5-3842-4660-8a99-2998a3be61dc"
      },
      "source": [
        "tp= len(predictions[(predictions==1) & (final_df['loan_status']==1)])\n",
        "tn= len(predictions[(predictions==0) & (final_df['loan_status']==0)])\n",
        "fp= len(predictions[(predictions==1) & (final_df['loan_status']==0)])\n",
        "fn= len(predictions[(predictions==0) & (final_df['loan_status']==1)])\n",
        "\n",
        "fpr = fp/(fp+tn)\n",
        "tpr= tp/(tp+fn)\n",
        "print(fpr, tpr)"
      ],
      "execution_count": 57,
      "outputs": [
        {
          "output_type": "stream",
          "text": [
            "0.9990128331688055 0.9980007865757735\n"
          ],
          "name": "stdout"
        }
      ]
    },
    {
      "cell_type": "code",
      "metadata": {
        "colab": {
          "base_uri": "https://localhost:8080/"
        },
        "id": "GRnpjf7VPs9S",
        "outputId": "8c35bce9-63b9-4804-e756-0adcd85cfb05"
      },
      "source": [
        "lr= LogisticRegression(class_weight= 'balanced', max_iter=1000)\n",
        "predictions= cross_val_predict(lr, features,target, cv=3)\n",
        "predictions= pd.Series(predictions)\n",
        "\n",
        "tp= len(predictions[(predictions==1) & (final_df['loan_status']==1)])\n",
        "tn= len(predictions[(predictions==0) & (final_df['loan_status']==0)])\n",
        "fp= len(predictions[(predictions==1) & (final_df['loan_status']==0)])\n",
        "fn= len(predictions[(predictions==0) & (final_df['loan_status']==1)])\n",
        "\n",
        "fpr = fp/(fp+tn)\n",
        "tpr= tp/(tp+fn)\n",
        "print(fpr, tpr)"
      ],
      "execution_count": 67,
      "outputs": [
        {
          "output_type": "stream",
          "text": [
            "0.5032576505429418 0.5119952805453593\n"
          ],
          "name": "stdout"
        }
      ]
    },
    {
      "cell_type": "code",
      "metadata": {
        "colab": {
          "base_uri": "https://localhost:8080/"
        },
        "id": "f44nc6SJU0vx",
        "outputId": "c8d0e941-58ef-4482-b27c-89d845488c2d"
      },
      "source": [
        "penalty= {0:10,\n",
        "          1:1}\n",
        "lr= LogisticRegression(class_weight= penalty, max_iter=1000)\n",
        "predictions= cross_val_predict(lr, features,target, cv=3)\n",
        "predictions= pd.Series(predictions)\n",
        "\n",
        "tp= len(predictions[(predictions==1) & (final_df['loan_status']==1)])\n",
        "tn= len(predictions[(predictions==0) & (final_df['loan_status']==0)])\n",
        "fp= len(predictions[(predictions==1) & (final_df['loan_status']==0)])\n",
        "fn= len(predictions[(predictions==0) & (final_df['loan_status']==1)])\n",
        "\n",
        "fpr = fp/(fp+tn)\n",
        "tpr= tp/(tp+fn)\n",
        "print(fpr, tpr)"
      ],
      "execution_count": 68,
      "outputs": [
        {
          "output_type": "stream",
          "text": [
            "0.1504442250740375 0.15525039328788673\n"
          ],
          "name": "stdout"
        }
      ]
    },
    {
      "cell_type": "markdown",
      "metadata": {
        "id": "rZ7UfnIwYT_6"
      },
      "source": [
        "here we decreased Fpr to 15% which is better improvement"
      ]
    },
    {
      "cell_type": "code",
      "metadata": {
        "colab": {
          "base_uri": "https://localhost:8080/"
        },
        "id": "oL6Aguy3WTWn",
        "outputId": "08eafd21-7199-4294-8683-09220ae54ead"
      },
      "source": [
        "from sklearn.ensemble import RandomForestClassifier\n",
        "rfc= RandomForestClassifier(random_state= 1, class_weight='balanced')\n",
        "predictions= cross_val_predict(rfc, features,target, cv=3)\n",
        "predictions= pd.Series(predictions)\n",
        "tp= len(predictions[(predictions==1) & (final_df['loan_status']==1)])\n",
        "tn= len(predictions[(predictions==0) & (final_df['loan_status']==0)])\n",
        "fp= len(predictions[(predictions==1) & (final_df['loan_status']==0)])\n",
        "fn= len(predictions[(predictions==0) & (final_df['loan_status']==1)])\n",
        "\n",
        "fpr = fp/(fp+tn)\n",
        "tpr= tp/(tp+fn)\n",
        "print(fpr, tpr)"
      ],
      "execution_count": 70,
      "outputs": [
        {
          "output_type": "stream",
          "text": [
            "0.998025666337611 0.9960998951232302\n"
          ],
          "name": "stdout"
        }
      ]
    },
    {
      "cell_type": "markdown",
      "metadata": {
        "id": "I2wh0RyTYg_j"
      },
      "source": [
        "this algorithm did not work well"
      ]
    },
    {
      "cell_type": "code",
      "metadata": {
        "id": "iJ_GS8NTXn1D"
      },
      "source": [
        ""
      ],
      "execution_count": null,
      "outputs": []
    }
  ]
}