{
  "nbformat": 4,
  "nbformat_minor": 0,
  "metadata": {
    "colab": {
      "name": "simple_neutral_work.ipynb",
      "provenance": [],
      "authorship_tag": "ABX9TyMl3GuGzTKhdBRkuRvaPPzH",
      "include_colab_link": true
    },
    "kernelspec": {
      "name": "python3",
      "display_name": "Python 3"
    },
    "language_info": {
      "name": "python"
    }
  },
  "cells": [
    {
      "cell_type": "markdown",
      "metadata": {
        "id": "view-in-github",
        "colab_type": "text"
      },
      "source": [
        "<a href=\"https://colab.research.google.com/github/mesrp88/ml_work/blob/main/simple_neutral_work.ipynb\" target=\"_parent\"><img src=\"https://colab.research.google.com/assets/colab-badge.svg\" alt=\"Open In Colab\"/></a>"
      ]
    },
    {
      "cell_type": "code",
      "metadata": {
        "id": "txdCw_ag_f6p"
      },
      "source": [
        "import numpy as np\n",
        "import tensorflow as tf\n",
        "from tensorflow.keras import Sequential\n",
        "from tensorflow.keras.layers import Dense, Flatten"
      ],
      "execution_count": null,
      "outputs": []
    },
    {
      "cell_type": "code",
      "metadata": {
        "id": "g8p3_OOMpRtL"
      },
      "source": [
        "data= tf.keras.datasets.fashion_mnist                                            #accessing fashion_mnist data from keras datasets.\n",
        "(training_images, training_labels), (test_images, test_labels)= data.load_data() #loading data and splitting into training and testing data."
      ],
      "execution_count": null,
      "outputs": []
    },
    {
      "cell_type": "code",
      "metadata": {
        "id": "NXuO59YWqIvc"
      },
      "source": [
        "training_images= training_images/255.0                                           #normalizing training images\n",
        "test_images= test_images/255.0                                                   #normalizing testing images"
      ],
      "execution_count": null,
      "outputs": []
    },
    {
      "cell_type": "code",
      "metadata": {
        "id": "PN0VrCxVAHfL"
      },
      "source": [
        "model= Sequential([Flatten(input_shape=(28,28)),\n",
        "                   Dense(units=28, activation= tf.nn.relu),\n",
        "                   Dense(units=10, activation= tf.nn.softmax)\n",
        "                   ])"
      ],
      "execution_count": null,
      "outputs": []
    },
    {
      "cell_type": "code",
      "metadata": {
        "id": "l_GKsMtoqpKA"
      },
      "source": [
        "model.compile(optimizer= 'adam', loss='sparse_categorical_crossentropy',\n",
        "              metrics=['accuracy'])                                              #compiling model with optimizers , loss and metrics parameter\n"
      ],
      "execution_count": null,
      "outputs": []
    },
    {
      "cell_type": "code",
      "metadata": {
        "colab": {
          "base_uri": "https://localhost:8080/"
        },
        "id": "SBKdnEZGrA9U",
        "outputId": "53bba42a-a066-4c5a-f449-fdfe31f0f9ae"
      },
      "source": [
        "model.fit(training_images, training_labels, epochs=5)"
      ],
      "execution_count": null,
      "outputs": [
        {
          "output_type": "stream",
          "text": [
            "Epoch 1/5\n",
            "1875/1875 [==============================] - 3s 1ms/step - loss: 0.7324 - accuracy: 0.7510\n",
            "Epoch 2/5\n",
            "1875/1875 [==============================] - 3s 1ms/step - loss: 0.4134 - accuracy: 0.8535\n",
            "Epoch 3/5\n",
            "1875/1875 [==============================] - 3s 1ms/step - loss: 0.3738 - accuracy: 0.8657\n",
            "Epoch 4/5\n",
            "1875/1875 [==============================] - 3s 1ms/step - loss: 0.3528 - accuracy: 0.8742\n",
            "Epoch 5/5\n",
            "1875/1875 [==============================] - 3s 1ms/step - loss: 0.3353 - accuracy: 0.8816\n"
          ],
          "name": "stdout"
        },
        {
          "output_type": "execute_result",
          "data": {
            "text/plain": [
              "<tensorflow.python.keras.callbacks.History at 0x7f0bba1bb590>"
            ]
          },
          "metadata": {
            "tags": []
          },
          "execution_count": 30
        }
      ]
    },
    {
      "cell_type": "code",
      "metadata": {
        "colab": {
          "base_uri": "https://localhost:8080/"
        },
        "id": "u2QRo33foFnN",
        "outputId": "6428ad3b-de69-4cba-eb9a-af3607101070"
      },
      "source": [
        "model.evaluate(test_images, test_labels)"
      ],
      "execution_count": null,
      "outputs": [
        {
          "output_type": "stream",
          "text": [
            "313/313 [==============================] - 0s 1ms/step - loss: 0.4297 - accuracy: 0.8495\n"
          ],
          "name": "stdout"
        },
        {
          "output_type": "execute_result",
          "data": {
            "text/plain": [
              "[0.4296734929084778, 0.8495000004768372]"
            ]
          },
          "metadata": {
            "tags": []
          },
          "execution_count": 31
        }
      ]
    },
    {
      "cell_type": "code",
      "metadata": {
        "colab": {
          "base_uri": "https://localhost:8080/"
        },
        "id": "YrdbaEprocZk",
        "outputId": "6c4174fc-f43b-43e8-9f1b-6fe02a52e2e6"
      },
      "source": [
        "classification= model.predict([test_images])\n",
        "print(classification[0])\n",
        "print(test_labels[0])"
      ],
      "execution_count": null,
      "outputs": [
        {
          "output_type": "stream",
          "text": [
            "[1.9560319e-05 8.1480529e-08 1.9476238e-05 1.7367302e-05 3.1938907e-05\n",
            " 9.2829224e-03 2.3702500e-05 2.8390042e-02 1.5284239e-04 9.6206206e-01]\n",
            "9\n"
          ],
          "name": "stdout"
        }
      ]
    },
    {
      "cell_type": "markdown",
      "metadata": {
        "id": "RjPNS4yXxVVA"
      },
      "source": [
        "here you can see our actual label is 9  for first row and from predication also we can probabilty where index 9 have higher probability among array so prediction made was right"
      ]
    },
    {
      "cell_type": "code",
      "metadata": {
        "colab": {
          "base_uri": "https://localhost:8080/"
        },
        "id": "5gVt7Gy3pA_K",
        "outputId": "1c2c4ab9-3b84-4a4e-8167-46186480fb1b"
      },
      "source": [
        "model.fit(training_images, training_labels, epochs=50)                           #incresing epoches from 5 to 50"
      ],
      "execution_count": null,
      "outputs": [
        {
          "output_type": "stream",
          "text": [
            "Epoch 1/50\n",
            "1875/1875 [==============================] - 3s 1ms/step - loss: 0.3231 - accuracy: 0.8821\n",
            "Epoch 2/50\n",
            "1875/1875 [==============================] - 3s 1ms/step - loss: 0.3160 - accuracy: 0.8858\n",
            "Epoch 3/50\n",
            "1875/1875 [==============================] - 3s 1ms/step - loss: 0.3063 - accuracy: 0.8878\n",
            "Epoch 4/50\n",
            "1875/1875 [==============================] - 3s 1ms/step - loss: 0.2991 - accuracy: 0.8909\n",
            "Epoch 5/50\n",
            "1875/1875 [==============================] - 3s 1ms/step - loss: 0.2935 - accuracy: 0.8928\n",
            "Epoch 6/50\n",
            "1875/1875 [==============================] - 3s 1ms/step - loss: 0.2885 - accuracy: 0.8944\n",
            "Epoch 7/50\n",
            "1875/1875 [==============================] - 3s 1ms/step - loss: 0.2832 - accuracy: 0.8969\n",
            "Epoch 8/50\n",
            "1875/1875 [==============================] - 3s 1ms/step - loss: 0.2792 - accuracy: 0.8985\n",
            "Epoch 9/50\n",
            "1875/1875 [==============================] - 3s 1ms/step - loss: 0.2738 - accuracy: 0.8997\n",
            "Epoch 10/50\n",
            "1875/1875 [==============================] - 3s 1ms/step - loss: 0.2712 - accuracy: 0.9001\n",
            "Epoch 11/50\n",
            "1875/1875 [==============================] - 3s 1ms/step - loss: 0.2666 - accuracy: 0.9028\n",
            "Epoch 12/50\n",
            "1875/1875 [==============================] - 3s 1ms/step - loss: 0.2635 - accuracy: 0.9027\n",
            "Epoch 13/50\n",
            "1875/1875 [==============================] - 3s 1ms/step - loss: 0.2596 - accuracy: 0.9042\n",
            "Epoch 14/50\n",
            "1875/1875 [==============================] - 3s 1ms/step - loss: 0.2565 - accuracy: 0.9062\n",
            "Epoch 15/50\n",
            "1875/1875 [==============================] - 3s 1ms/step - loss: 0.2542 - accuracy: 0.9057\n",
            "Epoch 16/50\n",
            "1875/1875 [==============================] - 3s 1ms/step - loss: 0.2521 - accuracy: 0.9078\n",
            "Epoch 17/50\n",
            "1875/1875 [==============================] - 3s 1ms/step - loss: 0.2488 - accuracy: 0.9074\n",
            "Epoch 18/50\n",
            "1875/1875 [==============================] - 3s 1ms/step - loss: 0.2450 - accuracy: 0.9103\n",
            "Epoch 19/50\n",
            "1875/1875 [==============================] - 3s 1ms/step - loss: 0.2432 - accuracy: 0.9102\n",
            "Epoch 20/50\n",
            "1875/1875 [==============================] - 3s 1ms/step - loss: 0.2426 - accuracy: 0.9109\n",
            "Epoch 21/50\n",
            "1875/1875 [==============================] - 3s 1ms/step - loss: 0.2386 - accuracy: 0.9119\n",
            "Epoch 22/50\n",
            "1875/1875 [==============================] - 3s 1ms/step - loss: 0.2354 - accuracy: 0.9129\n",
            "Epoch 23/50\n",
            "1875/1875 [==============================] - 3s 1ms/step - loss: 0.2347 - accuracy: 0.9132\n",
            "Epoch 24/50\n",
            "1875/1875 [==============================] - 3s 1ms/step - loss: 0.2333 - accuracy: 0.9133\n",
            "Epoch 25/50\n",
            "1875/1875 [==============================] - 3s 1ms/step - loss: 0.2301 - accuracy: 0.9141\n",
            "Epoch 26/50\n",
            "1875/1875 [==============================] - 3s 1ms/step - loss: 0.2292 - accuracy: 0.9157\n",
            "Epoch 27/50\n",
            "1875/1875 [==============================] - 3s 1ms/step - loss: 0.2267 - accuracy: 0.9159\n",
            "Epoch 28/50\n",
            "1875/1875 [==============================] - 3s 1ms/step - loss: 0.2266 - accuracy: 0.9159\n",
            "Epoch 29/50\n",
            "1875/1875 [==============================] - 3s 1ms/step - loss: 0.2228 - accuracy: 0.9179\n",
            "Epoch 30/50\n",
            "1875/1875 [==============================] - 3s 1ms/step - loss: 0.2223 - accuracy: 0.9173\n",
            "Epoch 31/50\n",
            "1875/1875 [==============================] - 3s 1ms/step - loss: 0.2209 - accuracy: 0.9177\n",
            "Epoch 32/50\n",
            "1875/1875 [==============================] - 2s 1ms/step - loss: 0.2186 - accuracy: 0.9197\n",
            "Epoch 33/50\n",
            "1875/1875 [==============================] - 3s 1ms/step - loss: 0.2166 - accuracy: 0.9199\n",
            "Epoch 34/50\n",
            "1875/1875 [==============================] - 3s 1ms/step - loss: 0.2155 - accuracy: 0.9207\n",
            "Epoch 35/50\n",
            "1875/1875 [==============================] - 3s 1ms/step - loss: 0.2135 - accuracy: 0.9213\n",
            "Epoch 36/50\n",
            "1875/1875 [==============================] - 3s 1ms/step - loss: 0.2124 - accuracy: 0.9212\n",
            "Epoch 37/50\n",
            "1875/1875 [==============================] - 3s 1ms/step - loss: 0.2121 - accuracy: 0.9217\n",
            "Epoch 38/50\n",
            "1875/1875 [==============================] - 3s 1ms/step - loss: 0.2108 - accuracy: 0.9218\n",
            "Epoch 39/50\n",
            "1875/1875 [==============================] - 3s 1ms/step - loss: 0.2075 - accuracy: 0.9234\n",
            "Epoch 40/50\n",
            "1875/1875 [==============================] - 3s 1ms/step - loss: 0.2080 - accuracy: 0.9230\n",
            "Epoch 41/50\n",
            "1875/1875 [==============================] - 3s 1ms/step - loss: 0.2051 - accuracy: 0.9245\n",
            "Epoch 42/50\n",
            "1875/1875 [==============================] - 3s 1ms/step - loss: 0.2049 - accuracy: 0.9240\n",
            "Epoch 43/50\n",
            "1875/1875 [==============================] - 3s 1ms/step - loss: 0.2049 - accuracy: 0.9236\n",
            "Epoch 44/50\n",
            "1875/1875 [==============================] - 3s 1ms/step - loss: 0.2018 - accuracy: 0.9250\n",
            "Epoch 45/50\n",
            "1875/1875 [==============================] - 3s 1ms/step - loss: 0.2028 - accuracy: 0.9249\n",
            "Epoch 46/50\n",
            "1875/1875 [==============================] - 3s 1ms/step - loss: 0.2011 - accuracy: 0.9252\n",
            "Epoch 47/50\n",
            "1875/1875 [==============================] - 3s 1ms/step - loss: 0.2002 - accuracy: 0.9269\n",
            "Epoch 48/50\n",
            "1875/1875 [==============================] - 3s 1ms/step - loss: 0.1991 - accuracy: 0.9265\n",
            "Epoch 49/50\n",
            "1875/1875 [==============================] - 3s 1ms/step - loss: 0.1965 - accuracy: 0.9275\n",
            "Epoch 50/50\n",
            "1875/1875 [==============================] - 3s 1ms/step - loss: 0.1964 - accuracy: 0.9274\n"
          ],
          "name": "stdout"
        },
        {
          "output_type": "execute_result",
          "data": {
            "text/plain": [
              "<tensorflow.python.keras.callbacks.History at 0x7f0bba167e90>"
            ]
          },
          "metadata": {
            "tags": []
          },
          "execution_count": 33
        }
      ]
    },
    {
      "cell_type": "code",
      "metadata": {
        "colab": {
          "base_uri": "https://localhost:8080/"
        },
        "id": "b_sLRCJk41ZG",
        "outputId": "2adb11c3-337c-49e0-fdf6-110513783f03"
      },
      "source": [
        "model.evaluate(test_images, test_labels)"
      ],
      "execution_count": null,
      "outputs": [
        {
          "output_type": "stream",
          "text": [
            "313/313 [==============================] - 0s 1ms/step - loss: 0.4317 - accuracy: 0.8724\n"
          ],
          "name": "stdout"
        },
        {
          "output_type": "execute_result",
          "data": {
            "text/plain": [
              "[0.4317241311073303, 0.8723999857902527]"
            ]
          },
          "metadata": {
            "tags": []
          },
          "execution_count": 34
        }
      ]
    },
    {
      "cell_type": "markdown",
      "metadata": {
        "id": "MJpIHdD45pTi"
      },
      "source": [
        "here we can see that training for longer time we get higher accuracy but test accuracy doesn't improved well. this is due to overfitting, this will not generalize well in unseen data. "
      ]
    },
    {
      "cell_type": "markdown",
      "metadata": {
        "id": "2EFIBQKT-wSC"
      },
      "source": [
        "**using callback to stop training when desire accuracy is obtained**"
      ]
    },
    {
      "cell_type": "code",
      "metadata": {
        "id": "QH8N6alD5l3C"
      },
      "source": [
        "class MyCallback(tf.keras.callbacks.Callback):\n",
        "  def on_epoch_end(self, epoch, logs={}):\n",
        "    if (logs.get('accuracy')>0.95):\n",
        "      print(\"\\nReach 95% accuracy so cancelling training\")\n",
        "      self.model.stop_training=True\n",
        "        "
      ],
      "execution_count": null,
      "outputs": []
    },
    {
      "cell_type": "code",
      "metadata": {
        "colab": {
          "base_uri": "https://localhost:8080/"
        },
        "id": "Fy5dtl6rBKYm",
        "outputId": "908eaa11-ffca-4366-8232-eb2553a1f72b"
      },
      "source": [
        "callbacks= MyCallback()\n",
        "model.compile(optimizer= 'adam', loss='sparse_categorical_crossentropy',\n",
        "              metrics=['accuracy'])                                              #compiling model with optimizers , loss and metrics parameter\n",
        "model.fit(training_images, training_labels, epochs=50, callbacks=[callbacks])"
      ],
      "execution_count": null,
      "outputs": [
        {
          "output_type": "stream",
          "text": [
            "Epoch 1/50\n",
            "1875/1875 [==============================] - 3s 1ms/step - loss: 0.1933 - accuracy: 0.9276\n",
            "Epoch 2/50\n",
            "1875/1875 [==============================] - 3s 1ms/step - loss: 0.1900 - accuracy: 0.9299\n",
            "Epoch 3/50\n",
            "1875/1875 [==============================] - 3s 1ms/step - loss: 0.1928 - accuracy: 0.9282\n",
            "Epoch 4/50\n",
            "1875/1875 [==============================] - 3s 1ms/step - loss: 0.1925 - accuracy: 0.9296\n",
            "Epoch 5/50\n",
            "1875/1875 [==============================] - 3s 1ms/step - loss: 0.1879 - accuracy: 0.9307\n",
            "Epoch 6/50\n",
            "1875/1875 [==============================] - 3s 1ms/step - loss: 0.1880 - accuracy: 0.9306\n",
            "Epoch 7/50\n",
            "1875/1875 [==============================] - 3s 1ms/step - loss: 0.1847 - accuracy: 0.9337\n",
            "Epoch 8/50\n",
            "1875/1875 [==============================] - 3s 2ms/step - loss: 0.1931 - accuracy: 0.9276\n",
            "Epoch 9/50\n",
            "1875/1875 [==============================] - 3s 1ms/step - loss: 0.1868 - accuracy: 0.9306\n",
            "Epoch 10/50\n",
            "1875/1875 [==============================] - 3s 1ms/step - loss: 0.1869 - accuracy: 0.9317\n",
            "Epoch 11/50\n",
            "1875/1875 [==============================] - 3s 1ms/step - loss: 0.1840 - accuracy: 0.9319\n",
            "Epoch 12/50\n",
            "1875/1875 [==============================] - 3s 1ms/step - loss: 0.1845 - accuracy: 0.9329\n",
            "Epoch 13/50\n",
            "1875/1875 [==============================] - 3s 1ms/step - loss: 0.1853 - accuracy: 0.9315\n",
            "Epoch 14/50\n",
            "1875/1875 [==============================] - 3s 1ms/step - loss: 0.1822 - accuracy: 0.9332\n",
            "Epoch 15/50\n",
            "1875/1875 [==============================] - 3s 1ms/step - loss: 0.1829 - accuracy: 0.9322\n",
            "Epoch 16/50\n",
            "1875/1875 [==============================] - 3s 1ms/step - loss: 0.1775 - accuracy: 0.9351\n",
            "Epoch 17/50\n",
            "1875/1875 [==============================] - 3s 1ms/step - loss: 0.1850 - accuracy: 0.9316\n",
            "Epoch 18/50\n",
            "1875/1875 [==============================] - 3s 1ms/step - loss: 0.1783 - accuracy: 0.9351\n",
            "Epoch 19/50\n",
            "1875/1875 [==============================] - 3s 1ms/step - loss: 0.1781 - accuracy: 0.9355\n",
            "Epoch 20/50\n",
            "1875/1875 [==============================] - 3s 1ms/step - loss: 0.1804 - accuracy: 0.9336\n",
            "Epoch 21/50\n",
            "1875/1875 [==============================] - 3s 1ms/step - loss: 0.1758 - accuracy: 0.9353\n",
            "Epoch 22/50\n",
            "1875/1875 [==============================] - 3s 1ms/step - loss: 0.1746 - accuracy: 0.9352\n",
            "Epoch 23/50\n",
            "1875/1875 [==============================] - 3s 1ms/step - loss: 0.1737 - accuracy: 0.9357\n",
            "Epoch 24/50\n",
            "1875/1875 [==============================] - 3s 1ms/step - loss: 0.1740 - accuracy: 0.9357\n",
            "Epoch 25/50\n",
            "1875/1875 [==============================] - 3s 1ms/step - loss: 0.1787 - accuracy: 0.9332\n",
            "Epoch 26/50\n",
            "1875/1875 [==============================] - 3s 1ms/step - loss: 0.1749 - accuracy: 0.9349\n",
            "Epoch 27/50\n",
            "1875/1875 [==============================] - 3s 1ms/step - loss: 0.1722 - accuracy: 0.9366\n",
            "Epoch 28/50\n",
            "1875/1875 [==============================] - 3s 1ms/step - loss: 0.1759 - accuracy: 0.9345\n",
            "Epoch 29/50\n",
            "1875/1875 [==============================] - 3s 1ms/step - loss: 0.1696 - accuracy: 0.9383\n",
            "Epoch 30/50\n",
            "1875/1875 [==============================] - 3s 1ms/step - loss: 0.1695 - accuracy: 0.9382\n",
            "Epoch 31/50\n",
            "1875/1875 [==============================] - 3s 1ms/step - loss: 0.1700 - accuracy: 0.9360\n",
            "Epoch 32/50\n",
            "1875/1875 [==============================] - 3s 1ms/step - loss: 0.1720 - accuracy: 0.9367\n",
            "Epoch 33/50\n",
            "1875/1875 [==============================] - 3s 1ms/step - loss: 0.1673 - accuracy: 0.9378\n",
            "Epoch 34/50\n",
            "1875/1875 [==============================] - 3s 1ms/step - loss: 0.1682 - accuracy: 0.9391\n",
            "Epoch 35/50\n",
            "1875/1875 [==============================] - 3s 1ms/step - loss: 0.1649 - accuracy: 0.9392\n",
            "Epoch 36/50\n",
            "1875/1875 [==============================] - 3s 1ms/step - loss: 0.1626 - accuracy: 0.9397\n",
            "Epoch 37/50\n",
            "1875/1875 [==============================] - 3s 1ms/step - loss: 0.1657 - accuracy: 0.9391\n",
            "Epoch 38/50\n",
            "1875/1875 [==============================] - 3s 1ms/step - loss: 0.1637 - accuracy: 0.9414\n",
            "Epoch 39/50\n",
            "1875/1875 [==============================] - 3s 1ms/step - loss: 0.1700 - accuracy: 0.9376\n",
            "Epoch 40/50\n",
            "1875/1875 [==============================] - 3s 1ms/step - loss: 0.1638 - accuracy: 0.9410\n",
            "Epoch 41/50\n",
            "1875/1875 [==============================] - 3s 1ms/step - loss: 0.1662 - accuracy: 0.9398\n",
            "Epoch 42/50\n",
            "1875/1875 [==============================] - 3s 1ms/step - loss: 0.1646 - accuracy: 0.9384\n",
            "Epoch 43/50\n",
            "1875/1875 [==============================] - 3s 1ms/step - loss: 0.1598 - accuracy: 0.9405\n",
            "Epoch 44/50\n",
            "1875/1875 [==============================] - 3s 1ms/step - loss: 0.1632 - accuracy: 0.9399\n",
            "Epoch 45/50\n",
            "1875/1875 [==============================] - 3s 1ms/step - loss: 0.1590 - accuracy: 0.9416\n",
            "Epoch 46/50\n",
            "1875/1875 [==============================] - 3s 1ms/step - loss: 0.1618 - accuracy: 0.9400\n",
            "Epoch 47/50\n",
            "1875/1875 [==============================] - 3s 1ms/step - loss: 0.1655 - accuracy: 0.9384\n",
            "Epoch 48/50\n",
            "1875/1875 [==============================] - 3s 1ms/step - loss: 0.1608 - accuracy: 0.9408\n",
            "Epoch 49/50\n",
            "1875/1875 [==============================] - 3s 1ms/step - loss: 0.1601 - accuracy: 0.9408\n",
            "Epoch 50/50\n",
            "1875/1875 [==============================] - 3s 1ms/step - loss: 0.1589 - accuracy: 0.9422\n"
          ],
          "name": "stdout"
        },
        {
          "output_type": "execute_result",
          "data": {
            "text/plain": [
              "<tensorflow.python.keras.callbacks.History at 0x7f0bb88435d0>"
            ]
          },
          "metadata": {
            "tags": []
          },
          "execution_count": 39
        }
      ]
    },
    {
      "cell_type": "markdown",
      "metadata": {
        "id": "8VAJPw4oDjMv"
      },
      "source": [
        "Here we can see training is stopped whena accuracy moved above 0.95"
      ]
    },
    {
      "cell_type": "code",
      "metadata": {
        "colab": {
          "base_uri": "https://localhost:8080/"
        },
        "id": "eugUmIx6CB5n",
        "outputId": "121bcad1-63a8-4ee9-9de8-6f2fd00dd9bf"
      },
      "source": [
        "model.evaluate(test_images, test_labels)"
      ],
      "execution_count": null,
      "outputs": [
        {
          "output_type": "stream",
          "text": [
            "313/313 [==============================] - 0s 1ms/step - loss: 0.5324 - accuracy: 0.8700\n"
          ],
          "name": "stdout"
        },
        {
          "output_type": "execute_result",
          "data": {
            "text/plain": [
              "[0.5324422121047974, 0.8700000047683716]"
            ]
          },
          "metadata": {
            "tags": []
          },
          "execution_count": 40
        }
      ]
    },
    {
      "cell_type": "code",
      "metadata": {
        "id": "zn4IxMoODhVj"
      },
      "source": [
        ""
      ],
      "execution_count": null,
      "outputs": []
    }
  ]
}