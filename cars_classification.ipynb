{
  "nbformat": 4,
  "nbformat_minor": 0,
  "metadata": {
    "kernelspec": {
      "display_name": "Python 3",
      "language": "python",
      "name": "python3"
    },
    "language_info": {
      "codemirror_mode": {
        "name": "ipython",
        "version": 3
      },
      "file_extension": ".py",
      "mimetype": "text/x-python",
      "name": "python",
      "nbconvert_exporter": "python",
      "pygments_lexer": "ipython3",
      "version": "3.7.4"
    },
    "colab": {
      "name": "cars_classification.ipynb",
      "provenance": [],
      "include_colab_link": true
    }
  },
  "cells": [
    {
      "cell_type": "markdown",
      "metadata": {
        "id": "view-in-github",
        "colab_type": "text"
      },
      "source": [
        "<a href=\"https://colab.research.google.com/github/mesrp88/ml_work/blob/main/cars_classification.ipynb\" target=\"_parent\"><img src=\"https://colab.research.google.com/assets/colab-badge.svg\" alt=\"Open In Colab\"/></a>"
      ]
    },
    {
      "cell_type": "code",
      "metadata": {
        "id": "YOHS5D6DL9x6"
      },
      "source": [
        "import pandas as pd"
      ],
      "execution_count": null,
      "outputs": []
    },
    {
      "cell_type": "code",
      "metadata": {
        "id": "5VdVsH_jL9yZ",
        "outputId": "486a1d45-b7b2-498a-b880-57b7660d3f3d"
      },
      "source": [
        "cars = pd.read_csv('auto.csv')\n",
        "cars.head()"
      ],
      "execution_count": null,
      "outputs": [
        {
          "output_type": "execute_result",
          "data": {
            "text/html": [
              "<div>\n",
              "<style scoped>\n",
              "    .dataframe tbody tr th:only-of-type {\n",
              "        vertical-align: middle;\n",
              "    }\n",
              "\n",
              "    .dataframe tbody tr th {\n",
              "        vertical-align: top;\n",
              "    }\n",
              "\n",
              "    .dataframe thead th {\n",
              "        text-align: right;\n",
              "    }\n",
              "</style>\n",
              "<table border=\"1\" class=\"dataframe\">\n",
              "  <thead>\n",
              "    <tr style=\"text-align: right;\">\n",
              "      <th></th>\n",
              "      <th>mpg</th>\n",
              "      <th>cylinders</th>\n",
              "      <th>displacement</th>\n",
              "      <th>horsepower</th>\n",
              "      <th>weight</th>\n",
              "      <th>acceleration</th>\n",
              "      <th>year</th>\n",
              "      <th>origin</th>\n",
              "    </tr>\n",
              "  </thead>\n",
              "  <tbody>\n",
              "    <tr>\n",
              "      <td>0</td>\n",
              "      <td>18.0</td>\n",
              "      <td>8</td>\n",
              "      <td>307.0</td>\n",
              "      <td>130.0</td>\n",
              "      <td>3504.0</td>\n",
              "      <td>12.0</td>\n",
              "      <td>70</td>\n",
              "      <td>1</td>\n",
              "    </tr>\n",
              "    <tr>\n",
              "      <td>1</td>\n",
              "      <td>15.0</td>\n",
              "      <td>8</td>\n",
              "      <td>350.0</td>\n",
              "      <td>165.0</td>\n",
              "      <td>3693.0</td>\n",
              "      <td>11.5</td>\n",
              "      <td>70</td>\n",
              "      <td>1</td>\n",
              "    </tr>\n",
              "    <tr>\n",
              "      <td>2</td>\n",
              "      <td>18.0</td>\n",
              "      <td>8</td>\n",
              "      <td>318.0</td>\n",
              "      <td>150.0</td>\n",
              "      <td>3436.0</td>\n",
              "      <td>11.0</td>\n",
              "      <td>70</td>\n",
              "      <td>1</td>\n",
              "    </tr>\n",
              "    <tr>\n",
              "      <td>3</td>\n",
              "      <td>16.0</td>\n",
              "      <td>8</td>\n",
              "      <td>304.0</td>\n",
              "      <td>150.0</td>\n",
              "      <td>3433.0</td>\n",
              "      <td>12.0</td>\n",
              "      <td>70</td>\n",
              "      <td>1</td>\n",
              "    </tr>\n",
              "    <tr>\n",
              "      <td>4</td>\n",
              "      <td>17.0</td>\n",
              "      <td>8</td>\n",
              "      <td>302.0</td>\n",
              "      <td>140.0</td>\n",
              "      <td>3449.0</td>\n",
              "      <td>10.5</td>\n",
              "      <td>70</td>\n",
              "      <td>1</td>\n",
              "    </tr>\n",
              "  </tbody>\n",
              "</table>\n",
              "</div>"
            ],
            "text/plain": [
              "    mpg  cylinders  displacement  horsepower  weight  acceleration  year  \\\n",
              "0  18.0          8         307.0       130.0  3504.0          12.0    70   \n",
              "1  15.0          8         350.0       165.0  3693.0          11.5    70   \n",
              "2  18.0          8         318.0       150.0  3436.0          11.0    70   \n",
              "3  16.0          8         304.0       150.0  3433.0          12.0    70   \n",
              "4  17.0          8         302.0       140.0  3449.0          10.5    70   \n",
              "\n",
              "   origin  \n",
              "0       1  \n",
              "1       1  \n",
              "2       1  \n",
              "3       1  \n",
              "4       1  "
            ]
          },
          "metadata": {
            "tags": []
          },
          "execution_count": 12
        }
      ]
    },
    {
      "cell_type": "code",
      "metadata": {
        "id": "vcCJW6-LL9ye",
        "outputId": "d99781e2-9ec1-42d4-e95e-accd198db90e"
      },
      "source": [
        "cars['origin'].unique()"
      ],
      "execution_count": null,
      "outputs": [
        {
          "output_type": "execute_result",
          "data": {
            "text/plain": [
              "array([1, 3, 2], dtype=int64)"
            ]
          },
          "metadata": {
            "tags": []
          },
          "execution_count": 13
        }
      ]
    },
    {
      "cell_type": "code",
      "metadata": {
        "id": "LrX5dm9LL9yg",
        "outputId": "2b15a7a8-9630-47d0-ce52-70b9abca7437"
      },
      "source": [
        "cylinder_dummies= pd.get_dummies(cars['cylinders'], prefix='cyl')\n",
        "print(cylinder_dummies)\n",
        "year_dummies= pd.get_dummies(cars['year'], prefix= 'year')\n",
        "cars= pd.concat([cars, cylinder_dummies, year_dummies], axis=1)\n",
        "\n",
        "cars.head()"
      ],
      "execution_count": null,
      "outputs": [
        {
          "output_type": "stream",
          "text": [
            "     cyl_3  cyl_4  cyl_5  cyl_6  cyl_8\n",
            "0        0      0      0      0      1\n",
            "1        0      0      0      0      1\n",
            "2        0      0      0      0      1\n",
            "3        0      0      0      0      1\n",
            "4        0      0      0      0      1\n",
            "..     ...    ...    ...    ...    ...\n",
            "387      0      1      0      0      0\n",
            "388      0      1      0      0      0\n",
            "389      0      1      0      0      0\n",
            "390      0      1      0      0      0\n",
            "391      0      1      0      0      0\n",
            "\n",
            "[392 rows x 5 columns]\n"
          ],
          "name": "stdout"
        },
        {
          "output_type": "execute_result",
          "data": {
            "text/html": [
              "<div>\n",
              "<style scoped>\n",
              "    .dataframe tbody tr th:only-of-type {\n",
              "        vertical-align: middle;\n",
              "    }\n",
              "\n",
              "    .dataframe tbody tr th {\n",
              "        vertical-align: top;\n",
              "    }\n",
              "\n",
              "    .dataframe thead th {\n",
              "        text-align: right;\n",
              "    }\n",
              "</style>\n",
              "<table border=\"1\" class=\"dataframe\">\n",
              "  <thead>\n",
              "    <tr style=\"text-align: right;\">\n",
              "      <th></th>\n",
              "      <th>mpg</th>\n",
              "      <th>cylinders</th>\n",
              "      <th>displacement</th>\n",
              "      <th>horsepower</th>\n",
              "      <th>weight</th>\n",
              "      <th>acceleration</th>\n",
              "      <th>year</th>\n",
              "      <th>origin</th>\n",
              "      <th>cyl_3</th>\n",
              "      <th>cyl_4</th>\n",
              "      <th>...</th>\n",
              "      <th>year_73</th>\n",
              "      <th>year_74</th>\n",
              "      <th>year_75</th>\n",
              "      <th>year_76</th>\n",
              "      <th>year_77</th>\n",
              "      <th>year_78</th>\n",
              "      <th>year_79</th>\n",
              "      <th>year_80</th>\n",
              "      <th>year_81</th>\n",
              "      <th>year_82</th>\n",
              "    </tr>\n",
              "  </thead>\n",
              "  <tbody>\n",
              "    <tr>\n",
              "      <td>0</td>\n",
              "      <td>18.0</td>\n",
              "      <td>8</td>\n",
              "      <td>307.0</td>\n",
              "      <td>130.0</td>\n",
              "      <td>3504.0</td>\n",
              "      <td>12.0</td>\n",
              "      <td>70</td>\n",
              "      <td>1</td>\n",
              "      <td>0</td>\n",
              "      <td>0</td>\n",
              "      <td>...</td>\n",
              "      <td>0</td>\n",
              "      <td>0</td>\n",
              "      <td>0</td>\n",
              "      <td>0</td>\n",
              "      <td>0</td>\n",
              "      <td>0</td>\n",
              "      <td>0</td>\n",
              "      <td>0</td>\n",
              "      <td>0</td>\n",
              "      <td>0</td>\n",
              "    </tr>\n",
              "    <tr>\n",
              "      <td>1</td>\n",
              "      <td>15.0</td>\n",
              "      <td>8</td>\n",
              "      <td>350.0</td>\n",
              "      <td>165.0</td>\n",
              "      <td>3693.0</td>\n",
              "      <td>11.5</td>\n",
              "      <td>70</td>\n",
              "      <td>1</td>\n",
              "      <td>0</td>\n",
              "      <td>0</td>\n",
              "      <td>...</td>\n",
              "      <td>0</td>\n",
              "      <td>0</td>\n",
              "      <td>0</td>\n",
              "      <td>0</td>\n",
              "      <td>0</td>\n",
              "      <td>0</td>\n",
              "      <td>0</td>\n",
              "      <td>0</td>\n",
              "      <td>0</td>\n",
              "      <td>0</td>\n",
              "    </tr>\n",
              "    <tr>\n",
              "      <td>2</td>\n",
              "      <td>18.0</td>\n",
              "      <td>8</td>\n",
              "      <td>318.0</td>\n",
              "      <td>150.0</td>\n",
              "      <td>3436.0</td>\n",
              "      <td>11.0</td>\n",
              "      <td>70</td>\n",
              "      <td>1</td>\n",
              "      <td>0</td>\n",
              "      <td>0</td>\n",
              "      <td>...</td>\n",
              "      <td>0</td>\n",
              "      <td>0</td>\n",
              "      <td>0</td>\n",
              "      <td>0</td>\n",
              "      <td>0</td>\n",
              "      <td>0</td>\n",
              "      <td>0</td>\n",
              "      <td>0</td>\n",
              "      <td>0</td>\n",
              "      <td>0</td>\n",
              "    </tr>\n",
              "    <tr>\n",
              "      <td>3</td>\n",
              "      <td>16.0</td>\n",
              "      <td>8</td>\n",
              "      <td>304.0</td>\n",
              "      <td>150.0</td>\n",
              "      <td>3433.0</td>\n",
              "      <td>12.0</td>\n",
              "      <td>70</td>\n",
              "      <td>1</td>\n",
              "      <td>0</td>\n",
              "      <td>0</td>\n",
              "      <td>...</td>\n",
              "      <td>0</td>\n",
              "      <td>0</td>\n",
              "      <td>0</td>\n",
              "      <td>0</td>\n",
              "      <td>0</td>\n",
              "      <td>0</td>\n",
              "      <td>0</td>\n",
              "      <td>0</td>\n",
              "      <td>0</td>\n",
              "      <td>0</td>\n",
              "    </tr>\n",
              "    <tr>\n",
              "      <td>4</td>\n",
              "      <td>17.0</td>\n",
              "      <td>8</td>\n",
              "      <td>302.0</td>\n",
              "      <td>140.0</td>\n",
              "      <td>3449.0</td>\n",
              "      <td>10.5</td>\n",
              "      <td>70</td>\n",
              "      <td>1</td>\n",
              "      <td>0</td>\n",
              "      <td>0</td>\n",
              "      <td>...</td>\n",
              "      <td>0</td>\n",
              "      <td>0</td>\n",
              "      <td>0</td>\n",
              "      <td>0</td>\n",
              "      <td>0</td>\n",
              "      <td>0</td>\n",
              "      <td>0</td>\n",
              "      <td>0</td>\n",
              "      <td>0</td>\n",
              "      <td>0</td>\n",
              "    </tr>\n",
              "  </tbody>\n",
              "</table>\n",
              "<p>5 rows × 26 columns</p>\n",
              "</div>"
            ],
            "text/plain": [
              "    mpg  cylinders  displacement  horsepower  weight  acceleration  year  \\\n",
              "0  18.0          8         307.0       130.0  3504.0          12.0    70   \n",
              "1  15.0          8         350.0       165.0  3693.0          11.5    70   \n",
              "2  18.0          8         318.0       150.0  3436.0          11.0    70   \n",
              "3  16.0          8         304.0       150.0  3433.0          12.0    70   \n",
              "4  17.0          8         302.0       140.0  3449.0          10.5    70   \n",
              "\n",
              "   origin  cyl_3  cyl_4  ...  year_73  year_74  year_75  year_76  year_77  \\\n",
              "0       1      0      0  ...        0        0        0        0        0   \n",
              "1       1      0      0  ...        0        0        0        0        0   \n",
              "2       1      0      0  ...        0        0        0        0        0   \n",
              "3       1      0      0  ...        0        0        0        0        0   \n",
              "4       1      0      0  ...        0        0        0        0        0   \n",
              "\n",
              "   year_78  year_79  year_80  year_81  year_82  \n",
              "0        0        0        0        0        0  \n",
              "1        0        0        0        0        0  \n",
              "2        0        0        0        0        0  \n",
              "3        0        0        0        0        0  \n",
              "4        0        0        0        0        0  \n",
              "\n",
              "[5 rows x 26 columns]"
            ]
          },
          "metadata": {
            "tags": []
          },
          "execution_count": 14
        }
      ]
    },
    {
      "cell_type": "code",
      "metadata": {
        "id": "M7Ep__zyL9yj"
      },
      "source": [
        "cars.drop(['cylinders', 'year'],axis=1, inplace=True)"
      ],
      "execution_count": null,
      "outputs": []
    },
    {
      "cell_type": "code",
      "metadata": {
        "id": "YVkXIMtYL9yk",
        "outputId": "08bd4fa3-474a-4143-b830-4a8c6fc47c81"
      },
      "source": [
        "cars.info()"
      ],
      "execution_count": null,
      "outputs": [
        {
          "output_type": "stream",
          "text": [
            "<class 'pandas.core.frame.DataFrame'>\n",
            "RangeIndex: 392 entries, 0 to 391\n",
            "Data columns (total 24 columns):\n",
            "mpg             392 non-null float64\n",
            "displacement    392 non-null float64\n",
            "horsepower      392 non-null float64\n",
            "weight          392 non-null float64\n",
            "acceleration    392 non-null float64\n",
            "origin          392 non-null int64\n",
            "cyl_3           392 non-null uint8\n",
            "cyl_4           392 non-null uint8\n",
            "cyl_5           392 non-null uint8\n",
            "cyl_6           392 non-null uint8\n",
            "cyl_8           392 non-null uint8\n",
            "year_70         392 non-null uint8\n",
            "year_71         392 non-null uint8\n",
            "year_72         392 non-null uint8\n",
            "year_73         392 non-null uint8\n",
            "year_74         392 non-null uint8\n",
            "year_75         392 non-null uint8\n",
            "year_76         392 non-null uint8\n",
            "year_77         392 non-null uint8\n",
            "year_78         392 non-null uint8\n",
            "year_79         392 non-null uint8\n",
            "year_80         392 non-null uint8\n",
            "year_81         392 non-null uint8\n",
            "year_82         392 non-null uint8\n",
            "dtypes: float64(5), int64(1), uint8(18)\n",
            "memory usage: 25.4 KB\n"
          ],
          "name": "stdout"
        }
      ]
    },
    {
      "cell_type": "code",
      "metadata": {
        "id": "obXTgk_zL9yl",
        "outputId": "82649caa-87a1-41f3-f495-f71069803679"
      },
      "source": [
        "import numpy as np\n",
        "shuffled_rows = np.random.permutation(cars.index)    #creatig list of shuffled index\n",
        "print(shuffled_rows)                                 #printing\n",
        "shuffled_cars = cars.iloc[shuffled_rows]             #extracting rows according to shuffled\n",
        "print(shuffled_cars)\n",
        "choosed_rows= cars.iloc[[1,5,7]]\n",
        "print(choosed_rows)\n",
        "size=int(len(cars)*0.70)\n",
        "train= shuffled_cars.iloc[0:size]                   #data is divided into train set\n",
        "test= shuffled_cars.iloc[size:]                     #data is divided into test set\n"
      ],
      "execution_count": null,
      "outputs": [
        {
          "output_type": "stream",
          "text": [
            "[292  51 132 141 373 203 185 237  70  50 323  89 223 157 156 206 362 264\n",
            " 274 158 288 126 280 335  85 275 391 318 186 169 293 108 162 246 202 116\n",
            "  61 128 173 322 304 269 238 152 290 385 226  20  86  31  57 216 183 213\n",
            " 348  77 163 296 232 319 229 164 242 332 270  26 340  98 265  41  37 220\n",
            "  22 345 295 308 388 328 351 313 181 234  49 278  96 325 299 124  46  42\n",
            " 172 197 390  87 252 271   5 389 198 383  35 375 190 161 119 282 147 218\n",
            " 118 174 384 316 104  24 379 352 136  32 209 122 130 347 165  43 145 107\n",
            " 243 365 297  64 224 177 367 168 160 363  65 329 261 327 267 366  53 179\n",
            "  71  76   6   7 188 244 355 360  55 370 121 101 273 123 217 259 133  69\n",
            " 306   8 120 276 140  39 268 339  68  97 353 350  27 298 138 148 150 305\n",
            " 287 111 144   2 309  59 333  10 283  82 387  54  93 284 331 257 211 199\n",
            " 341 159 250 239   0 215  16 285 176  99 346 115  28  95 310 230 378  12\n",
            " 336 155  66  30 289 221 326  45 151 117  84 251 337 260 386  60 193  17\n",
            " 344 364 357  80 321 248 317 175  58 228 249  56 205 231  33 314 191 376\n",
            " 381 277  52 324 219  72  88  92 377  83 258  29  94 279 255  73  78 359\n",
            " 189  75 102 167 100 382 311 233 127 114 225  48 330 235 320  74   9 129\n",
            " 207 356 103 105 227 240  63  36 368  44 245 222 254 134 149 253 361 342\n",
            "  34 315 358 196 263 180 200 194 372 125 354 302 236 112  40  19 187 137\n",
            " 139 146 154 166 307 241 294   1 301 182 291 371  62 204  91 210 212 208\n",
            " 171 153 272  67  47  23 312 334 266  18 201 349 170  79 303  11 178  90\n",
            " 286 143  21  25 192 109 369 214 374   4 247 343 135  14  81 338  38 131\n",
            " 281 113 300 110 195 142   3 184 106 256 380  13 262  15]\n",
            "      mpg  displacement  horsepower  weight  acceleration  origin  cyl_3  \\\n",
            "292  34.1          86.0        65.0  1975.0          15.2       3      0   \n",
            "51   30.0          88.0        76.0  2065.0          14.5       2      0   \n",
            "132  16.0         258.0       110.0  3632.0          18.0       1      0   \n",
            "141  26.0          97.0        78.0  2300.0          14.5       2      0   \n",
            "373  36.0          98.0        70.0  2125.0          17.3       1      0   \n",
            "..    ...           ...         ...     ...           ...     ...    ...   \n",
            "256  20.6         231.0       105.0  3380.0          15.8       1      0   \n",
            "380  25.0         181.0       110.0  2945.0          16.4       1      0   \n",
            "13   14.0         455.0       225.0  3086.0          10.0       1      0   \n",
            "262  18.1         302.0       139.0  3205.0          11.2       1      0   \n",
            "15   22.0         198.0        95.0  2833.0          15.5       1      0   \n",
            "\n",
            "     cyl_4  cyl_5  cyl_6  ...  year_73  year_74  year_75  year_76  year_77  \\\n",
            "292      1      0      0  ...        0        0        0        0        0   \n",
            "51       1      0      0  ...        0        0        0        0        0   \n",
            "132      0      0      1  ...        0        1        0        0        0   \n",
            "141      1      0      0  ...        0        1        0        0        0   \n",
            "373      1      0      0  ...        0        0        0        0        0   \n",
            "..     ...    ...    ...  ...      ...      ...      ...      ...      ...   \n",
            "256      0      0      1  ...        0        0        0        0        0   \n",
            "380      0      0      1  ...        0        0        0        0        0   \n",
            "13       0      0      0  ...        0        0        0        0        0   \n",
            "262      0      0      0  ...        0        0        0        0        0   \n",
            "15       0      0      1  ...        0        0        0        0        0   \n",
            "\n",
            "     year_78  year_79  year_80  year_81  year_82  \n",
            "292        0        1        0        0        0  \n",
            "51         0        0        0        0        0  \n",
            "132        0        0        0        0        0  \n",
            "141        0        0        0        0        0  \n",
            "373        0        0        0        0        1  \n",
            "..       ...      ...      ...      ...      ...  \n",
            "256        1        0        0        0        0  \n",
            "380        0        0        0        0        1  \n",
            "13         0        0        0        0        0  \n",
            "262        1        0        0        0        0  \n",
            "15         0        0        0        0        0  \n",
            "\n",
            "[392 rows x 24 columns]\n",
            "    mpg  displacement  horsepower  weight  acceleration  origin  cyl_3  cyl_4  \\\n",
            "1  15.0         350.0       165.0  3693.0          11.5       1      0      0   \n",
            "5  15.0         429.0       198.0  4341.0          10.0       1      0      0   \n",
            "7  14.0         440.0       215.0  4312.0           8.5       1      0      0   \n",
            "\n",
            "   cyl_5  cyl_6  ...  year_73  year_74  year_75  year_76  year_77  year_78  \\\n",
            "1      0      0  ...        0        0        0        0        0        0   \n",
            "5      0      0  ...        0        0        0        0        0        0   \n",
            "7      0      0  ...        0        0        0        0        0        0   \n",
            "\n",
            "   year_79  year_80  year_81  year_82  \n",
            "1        0        0        0        0  \n",
            "5        0        0        0        0  \n",
            "7        0        0        0        0  \n",
            "\n",
            "[3 rows x 24 columns]\n"
          ],
          "name": "stdout"
        }
      ]
    },
    {
      "cell_type": "code",
      "metadata": {
        "id": "a_sp-iDEL9yn",
        "outputId": "97d94b5c-0b46-4fe4-f959-22f6db05353d"
      },
      "source": [
        "unique_values= cars['origin'].unique()\n",
        "print(unique_values.sort())"
      ],
      "execution_count": null,
      "outputs": [
        {
          "output_type": "stream",
          "text": [
            "None\n"
          ],
          "name": "stdout"
        }
      ]
    },
    {
      "cell_type": "code",
      "metadata": {
        "id": "6_edeh6mL9yo",
        "outputId": "9a94f967-2ce0-4772-bfac-cc2330297424"
      },
      "source": [
        "for i in unique_values:\n",
        "    print(i)\n",
        "    "
      ],
      "execution_count": null,
      "outputs": [
        {
          "output_type": "stream",
          "text": [
            "1\n",
            "2\n",
            "3\n"
          ],
          "name": "stdout"
        }
      ]
    },
    {
      "cell_type": "code",
      "metadata": {
        "id": "6DHZeLaaL9yp",
        "outputId": "2d52124c-e6c1-46c9-a058-ce2efdb7a3fb"
      },
      "source": [
        "numbers= [1,7,3,5,8]\n",
        "numbers.sort()\n",
        "print(numbers)"
      ],
      "execution_count": null,
      "outputs": [
        {
          "output_type": "stream",
          "text": [
            "[1, 3, 5, 7, 8]\n"
          ],
          "name": "stdout"
        }
      ]
    },
    {
      "cell_type": "code",
      "metadata": {
        "id": "OCZ_wK3_L9yq",
        "outputId": "ec2f7eea-3dd4-437a-baa9-322f14d6a34f"
      },
      "source": [
        "cars.loc[:, 'cyl_3':]"
      ],
      "execution_count": null,
      "outputs": [
        {
          "output_type": "execute_result",
          "data": {
            "text/html": [
              "<div>\n",
              "<style scoped>\n",
              "    .dataframe tbody tr th:only-of-type {\n",
              "        vertical-align: middle;\n",
              "    }\n",
              "\n",
              "    .dataframe tbody tr th {\n",
              "        vertical-align: top;\n",
              "    }\n",
              "\n",
              "    .dataframe thead th {\n",
              "        text-align: right;\n",
              "    }\n",
              "</style>\n",
              "<table border=\"1\" class=\"dataframe\">\n",
              "  <thead>\n",
              "    <tr style=\"text-align: right;\">\n",
              "      <th></th>\n",
              "      <th>cyl_3</th>\n",
              "      <th>cyl_4</th>\n",
              "      <th>cyl_5</th>\n",
              "      <th>cyl_6</th>\n",
              "      <th>cyl_8</th>\n",
              "      <th>year_70</th>\n",
              "      <th>year_71</th>\n",
              "      <th>year_72</th>\n",
              "      <th>year_73</th>\n",
              "      <th>year_74</th>\n",
              "      <th>year_75</th>\n",
              "      <th>year_76</th>\n",
              "      <th>year_77</th>\n",
              "      <th>year_78</th>\n",
              "      <th>year_79</th>\n",
              "      <th>year_80</th>\n",
              "      <th>year_81</th>\n",
              "      <th>year_82</th>\n",
              "    </tr>\n",
              "  </thead>\n",
              "  <tbody>\n",
              "    <tr>\n",
              "      <td>0</td>\n",
              "      <td>0</td>\n",
              "      <td>0</td>\n",
              "      <td>0</td>\n",
              "      <td>0</td>\n",
              "      <td>1</td>\n",
              "      <td>1</td>\n",
              "      <td>0</td>\n",
              "      <td>0</td>\n",
              "      <td>0</td>\n",
              "      <td>0</td>\n",
              "      <td>0</td>\n",
              "      <td>0</td>\n",
              "      <td>0</td>\n",
              "      <td>0</td>\n",
              "      <td>0</td>\n",
              "      <td>0</td>\n",
              "      <td>0</td>\n",
              "      <td>0</td>\n",
              "    </tr>\n",
              "    <tr>\n",
              "      <td>1</td>\n",
              "      <td>0</td>\n",
              "      <td>0</td>\n",
              "      <td>0</td>\n",
              "      <td>0</td>\n",
              "      <td>1</td>\n",
              "      <td>1</td>\n",
              "      <td>0</td>\n",
              "      <td>0</td>\n",
              "      <td>0</td>\n",
              "      <td>0</td>\n",
              "      <td>0</td>\n",
              "      <td>0</td>\n",
              "      <td>0</td>\n",
              "      <td>0</td>\n",
              "      <td>0</td>\n",
              "      <td>0</td>\n",
              "      <td>0</td>\n",
              "      <td>0</td>\n",
              "    </tr>\n",
              "    <tr>\n",
              "      <td>2</td>\n",
              "      <td>0</td>\n",
              "      <td>0</td>\n",
              "      <td>0</td>\n",
              "      <td>0</td>\n",
              "      <td>1</td>\n",
              "      <td>1</td>\n",
              "      <td>0</td>\n",
              "      <td>0</td>\n",
              "      <td>0</td>\n",
              "      <td>0</td>\n",
              "      <td>0</td>\n",
              "      <td>0</td>\n",
              "      <td>0</td>\n",
              "      <td>0</td>\n",
              "      <td>0</td>\n",
              "      <td>0</td>\n",
              "      <td>0</td>\n",
              "      <td>0</td>\n",
              "    </tr>\n",
              "    <tr>\n",
              "      <td>3</td>\n",
              "      <td>0</td>\n",
              "      <td>0</td>\n",
              "      <td>0</td>\n",
              "      <td>0</td>\n",
              "      <td>1</td>\n",
              "      <td>1</td>\n",
              "      <td>0</td>\n",
              "      <td>0</td>\n",
              "      <td>0</td>\n",
              "      <td>0</td>\n",
              "      <td>0</td>\n",
              "      <td>0</td>\n",
              "      <td>0</td>\n",
              "      <td>0</td>\n",
              "      <td>0</td>\n",
              "      <td>0</td>\n",
              "      <td>0</td>\n",
              "      <td>0</td>\n",
              "    </tr>\n",
              "    <tr>\n",
              "      <td>4</td>\n",
              "      <td>0</td>\n",
              "      <td>0</td>\n",
              "      <td>0</td>\n",
              "      <td>0</td>\n",
              "      <td>1</td>\n",
              "      <td>1</td>\n",
              "      <td>0</td>\n",
              "      <td>0</td>\n",
              "      <td>0</td>\n",
              "      <td>0</td>\n",
              "      <td>0</td>\n",
              "      <td>0</td>\n",
              "      <td>0</td>\n",
              "      <td>0</td>\n",
              "      <td>0</td>\n",
              "      <td>0</td>\n",
              "      <td>0</td>\n",
              "      <td>0</td>\n",
              "    </tr>\n",
              "    <tr>\n",
              "      <td>...</td>\n",
              "      <td>...</td>\n",
              "      <td>...</td>\n",
              "      <td>...</td>\n",
              "      <td>...</td>\n",
              "      <td>...</td>\n",
              "      <td>...</td>\n",
              "      <td>...</td>\n",
              "      <td>...</td>\n",
              "      <td>...</td>\n",
              "      <td>...</td>\n",
              "      <td>...</td>\n",
              "      <td>...</td>\n",
              "      <td>...</td>\n",
              "      <td>...</td>\n",
              "      <td>...</td>\n",
              "      <td>...</td>\n",
              "      <td>...</td>\n",
              "      <td>...</td>\n",
              "    </tr>\n",
              "    <tr>\n",
              "      <td>387</td>\n",
              "      <td>0</td>\n",
              "      <td>1</td>\n",
              "      <td>0</td>\n",
              "      <td>0</td>\n",
              "      <td>0</td>\n",
              "      <td>0</td>\n",
              "      <td>0</td>\n",
              "      <td>0</td>\n",
              "      <td>0</td>\n",
              "      <td>0</td>\n",
              "      <td>0</td>\n",
              "      <td>0</td>\n",
              "      <td>0</td>\n",
              "      <td>0</td>\n",
              "      <td>0</td>\n",
              "      <td>0</td>\n",
              "      <td>0</td>\n",
              "      <td>1</td>\n",
              "    </tr>\n",
              "    <tr>\n",
              "      <td>388</td>\n",
              "      <td>0</td>\n",
              "      <td>1</td>\n",
              "      <td>0</td>\n",
              "      <td>0</td>\n",
              "      <td>0</td>\n",
              "      <td>0</td>\n",
              "      <td>0</td>\n",
              "      <td>0</td>\n",
              "      <td>0</td>\n",
              "      <td>0</td>\n",
              "      <td>0</td>\n",
              "      <td>0</td>\n",
              "      <td>0</td>\n",
              "      <td>0</td>\n",
              "      <td>0</td>\n",
              "      <td>0</td>\n",
              "      <td>0</td>\n",
              "      <td>1</td>\n",
              "    </tr>\n",
              "    <tr>\n",
              "      <td>389</td>\n",
              "      <td>0</td>\n",
              "      <td>1</td>\n",
              "      <td>0</td>\n",
              "      <td>0</td>\n",
              "      <td>0</td>\n",
              "      <td>0</td>\n",
              "      <td>0</td>\n",
              "      <td>0</td>\n",
              "      <td>0</td>\n",
              "      <td>0</td>\n",
              "      <td>0</td>\n",
              "      <td>0</td>\n",
              "      <td>0</td>\n",
              "      <td>0</td>\n",
              "      <td>0</td>\n",
              "      <td>0</td>\n",
              "      <td>0</td>\n",
              "      <td>1</td>\n",
              "    </tr>\n",
              "    <tr>\n",
              "      <td>390</td>\n",
              "      <td>0</td>\n",
              "      <td>1</td>\n",
              "      <td>0</td>\n",
              "      <td>0</td>\n",
              "      <td>0</td>\n",
              "      <td>0</td>\n",
              "      <td>0</td>\n",
              "      <td>0</td>\n",
              "      <td>0</td>\n",
              "      <td>0</td>\n",
              "      <td>0</td>\n",
              "      <td>0</td>\n",
              "      <td>0</td>\n",
              "      <td>0</td>\n",
              "      <td>0</td>\n",
              "      <td>0</td>\n",
              "      <td>0</td>\n",
              "      <td>1</td>\n",
              "    </tr>\n",
              "    <tr>\n",
              "      <td>391</td>\n",
              "      <td>0</td>\n",
              "      <td>1</td>\n",
              "      <td>0</td>\n",
              "      <td>0</td>\n",
              "      <td>0</td>\n",
              "      <td>0</td>\n",
              "      <td>0</td>\n",
              "      <td>0</td>\n",
              "      <td>0</td>\n",
              "      <td>0</td>\n",
              "      <td>0</td>\n",
              "      <td>0</td>\n",
              "      <td>0</td>\n",
              "      <td>0</td>\n",
              "      <td>0</td>\n",
              "      <td>0</td>\n",
              "      <td>0</td>\n",
              "      <td>1</td>\n",
              "    </tr>\n",
              "  </tbody>\n",
              "</table>\n",
              "<p>392 rows × 18 columns</p>\n",
              "</div>"
            ],
            "text/plain": [
              "     cyl_3  cyl_4  cyl_5  cyl_6  cyl_8  year_70  year_71  year_72  year_73  \\\n",
              "0        0      0      0      0      1        1        0        0        0   \n",
              "1        0      0      0      0      1        1        0        0        0   \n",
              "2        0      0      0      0      1        1        0        0        0   \n",
              "3        0      0      0      0      1        1        0        0        0   \n",
              "4        0      0      0      0      1        1        0        0        0   \n",
              "..     ...    ...    ...    ...    ...      ...      ...      ...      ...   \n",
              "387      0      1      0      0      0        0        0        0        0   \n",
              "388      0      1      0      0      0        0        0        0        0   \n",
              "389      0      1      0      0      0        0        0        0        0   \n",
              "390      0      1      0      0      0        0        0        0        0   \n",
              "391      0      1      0      0      0        0        0        0        0   \n",
              "\n",
              "     year_74  year_75  year_76  year_77  year_78  year_79  year_80  year_81  \\\n",
              "0          0        0        0        0        0        0        0        0   \n",
              "1          0        0        0        0        0        0        0        0   \n",
              "2          0        0        0        0        0        0        0        0   \n",
              "3          0        0        0        0        0        0        0        0   \n",
              "4          0        0        0        0        0        0        0        0   \n",
              "..       ...      ...      ...      ...      ...      ...      ...      ...   \n",
              "387        0        0        0        0        0        0        0        0   \n",
              "388        0        0        0        0        0        0        0        0   \n",
              "389        0        0        0        0        0        0        0        0   \n",
              "390        0        0        0        0        0        0        0        0   \n",
              "391        0        0        0        0        0        0        0        0   \n",
              "\n",
              "     year_82  \n",
              "0          0  \n",
              "1          0  \n",
              "2          0  \n",
              "3          0  \n",
              "4          0  \n",
              "..       ...  \n",
              "387        1  \n",
              "388        1  \n",
              "389        1  \n",
              "390        1  \n",
              "391        1  \n",
              "\n",
              "[392 rows x 18 columns]"
            ]
          },
          "metadata": {
            "tags": []
          },
          "execution_count": 35
        }
      ]
    },
    {
      "cell_type": "code",
      "metadata": {
        "id": "Ed4DO3F4L9yr",
        "outputId": "848ccba6-2ab7-4561-c4a8-defda823da96"
      },
      "source": [
        "features = [c for c in train.columns if c.startswith(\"cyl\") or c.startswith(\"year\")]\n",
        "features"
      ],
      "execution_count": null,
      "outputs": [
        {
          "output_type": "execute_result",
          "data": {
            "text/plain": [
              "['cyl_3',\n",
              " 'cyl_4',\n",
              " 'cyl_5',\n",
              " 'cyl_6',\n",
              " 'cyl_8',\n",
              " 'year_70',\n",
              " 'year_71',\n",
              " 'year_72',\n",
              " 'year_73',\n",
              " 'year_74',\n",
              " 'year_75',\n",
              " 'year_76',\n",
              " 'year_77',\n",
              " 'year_78',\n",
              " 'year_79',\n",
              " 'year_80',\n",
              " 'year_81',\n",
              " 'year_82']"
            ]
          },
          "metadata": {
            "tags": []
          },
          "execution_count": 36
        }
      ]
    },
    {
      "cell_type": "code",
      "metadata": {
        "id": "8BW8ERLtL9ys",
        "outputId": "61764223-de38-43a9-da5c-29d4e1a3dd52"
      },
      "source": [
        "y_train= train['origin']==1\n",
        "y_train"
      ],
      "execution_count": null,
      "outputs": [
        {
          "output_type": "execute_result",
          "data": {
            "text/plain": [
              "292    False\n",
              "51     False\n",
              "132     True\n",
              "141    False\n",
              "373     True\n",
              "       ...  \n",
              "359     True\n",
              "189     True\n",
              "75     False\n",
              "102     True\n",
              "167     True\n",
              "Name: origin, Length: 274, dtype: bool"
            ]
          },
          "metadata": {
            "tags": []
          },
          "execution_count": 37
        }
      ]
    },
    {
      "cell_type": "code",
      "metadata": {
        "id": "GRh54gbdL9yu"
      },
      "source": [
        "from sklearn.linear_model import LogisticRegression\n",
        "\n",
        "unique_origins = cars[\"origin\"].unique()\n",
        "unique_origins.sort()\n",
        "X_train= train.loc[:, 'cyl_3':]\n",
        "\n",
        "models = {}\n",
        "for origin in unique_origins:\n",
        "    lr= LogisticRegression()\n",
        "    y_train= train['origin']==origin\n",
        "    lr.fit(X_train, y_train)\n",
        "    models[origin]= lr\n",
        "    "
      ],
      "execution_count": null,
      "outputs": []
    },
    {
      "cell_type": "code",
      "metadata": {
        "id": "rnImP_2EL9yw",
        "outputId": "afad19a2-7438-43d2-b9a9-e62258c5b666"
      },
      "source": [
        "models"
      ],
      "execution_count": null,
      "outputs": [
        {
          "output_type": "execute_result",
          "data": {
            "text/plain": [
              "{1: LogisticRegression(), 2: LogisticRegression(), 3: LogisticRegression()}"
            ]
          },
          "metadata": {
            "tags": []
          },
          "execution_count": 39
        }
      ]
    },
    {
      "cell_type": "code",
      "metadata": {
        "id": "VhUkaWXGL9yx",
        "outputId": "088a543a-191e-4586-a9e3-5871d43fa2c9"
      },
      "source": [
        "testing_probs = pd.DataFrame(columns=unique_origins)\n",
        "testing_probs"
      ],
      "execution_count": null,
      "outputs": [
        {
          "output_type": "execute_result",
          "data": {
            "text/html": [
              "<div>\n",
              "<style scoped>\n",
              "    .dataframe tbody tr th:only-of-type {\n",
              "        vertical-align: middle;\n",
              "    }\n",
              "\n",
              "    .dataframe tbody tr th {\n",
              "        vertical-align: top;\n",
              "    }\n",
              "\n",
              "    .dataframe thead th {\n",
              "        text-align: right;\n",
              "    }\n",
              "</style>\n",
              "<table border=\"1\" class=\"dataframe\">\n",
              "  <thead>\n",
              "    <tr style=\"text-align: right;\">\n",
              "      <th></th>\n",
              "      <th>1</th>\n",
              "      <th>2</th>\n",
              "      <th>3</th>\n",
              "    </tr>\n",
              "  </thead>\n",
              "  <tbody>\n",
              "  </tbody>\n",
              "</table>\n",
              "</div>"
            ],
            "text/plain": [
              "Empty DataFrame\n",
              "Columns: [1, 2, 3]\n",
              "Index: []"
            ]
          },
          "metadata": {
            "tags": []
          },
          "execution_count": 40
        }
      ]
    },
    {
      "cell_type": "code",
      "metadata": {
        "id": "spCcYY-xL9yy"
      },
      "source": [
        "for i in unique_origins:\n",
        "    testing_probs[i]=models[i].predict_proba(test[features])[:,1]"
      ],
      "execution_count": null,
      "outputs": []
    },
    {
      "cell_type": "code",
      "metadata": {
        "id": "ynwG7OHZL9yz",
        "outputId": "e9d83563-8ef6-4ca5-8254-6279372a9fe5"
      },
      "source": [
        "testing_probs.head()"
      ],
      "execution_count": null,
      "outputs": [
        {
          "output_type": "execute_result",
          "data": {
            "text/html": [
              "<div>\n",
              "<style scoped>\n",
              "    .dataframe tbody tr th:only-of-type {\n",
              "        vertical-align: middle;\n",
              "    }\n",
              "\n",
              "    .dataframe tbody tr th {\n",
              "        vertical-align: top;\n",
              "    }\n",
              "\n",
              "    .dataframe thead th {\n",
              "        text-align: right;\n",
              "    }\n",
              "</style>\n",
              "<table border=\"1\" class=\"dataframe\">\n",
              "  <thead>\n",
              "    <tr style=\"text-align: right;\">\n",
              "      <th></th>\n",
              "      <th>1</th>\n",
              "      <th>2</th>\n",
              "      <th>3</th>\n",
              "    </tr>\n",
              "  </thead>\n",
              "  <tbody>\n",
              "    <tr>\n",
              "      <td>0</td>\n",
              "      <td>0.835188</td>\n",
              "      <td>0.127711</td>\n",
              "      <td>0.039355</td>\n",
              "    </tr>\n",
              "    <tr>\n",
              "      <td>1</td>\n",
              "      <td>0.583146</td>\n",
              "      <td>0.104900</td>\n",
              "      <td>0.323219</td>\n",
              "    </tr>\n",
              "    <tr>\n",
              "      <td>2</td>\n",
              "      <td>0.195334</td>\n",
              "      <td>0.301915</td>\n",
              "      <td>0.515762</td>\n",
              "    </tr>\n",
              "    <tr>\n",
              "      <td>3</td>\n",
              "      <td>0.393671</td>\n",
              "      <td>0.290270</td>\n",
              "      <td>0.295931</td>\n",
              "    </tr>\n",
              "    <tr>\n",
              "      <td>4</td>\n",
              "      <td>0.413367</td>\n",
              "      <td>0.316035</td>\n",
              "      <td>0.253600</td>\n",
              "    </tr>\n",
              "  </tbody>\n",
              "</table>\n",
              "</div>"
            ],
            "text/plain": [
              "          1         2         3\n",
              "0  0.835188  0.127711  0.039355\n",
              "1  0.583146  0.104900  0.323219\n",
              "2  0.195334  0.301915  0.515762\n",
              "3  0.393671  0.290270  0.295931\n",
              "4  0.413367  0.316035  0.253600"
            ]
          },
          "metadata": {
            "tags": []
          },
          "execution_count": 55
        }
      ]
    },
    {
      "cell_type": "code",
      "metadata": {
        "id": "ZX18K8HGL9yz",
        "outputId": "0bcdaf17-bffd-4c31-ad6c-d860ab711424"
      },
      "source": [
        "predicted_origins= testing_probs.idxmax(axis=1)\n",
        "print(predicted_origins)"
      ],
      "execution_count": null,
      "outputs": [
        {
          "output_type": "stream",
          "text": [
            "0      1\n",
            "1      1\n",
            "2      3\n",
            "3      1\n",
            "4      1\n",
            "      ..\n",
            "113    1\n",
            "114    1\n",
            "115    1\n",
            "116    1\n",
            "117    1\n",
            "Length: 118, dtype: int64\n"
          ],
          "name": "stdout"
        }
      ]
    },
    {
      "cell_type": "code",
      "metadata": {
        "id": "ZJ2R2eL3L9y0"
      },
      "source": [
        "import pandas as pd\n",
        "columns = [\"mpg\", \"cylinders\", \"displacement\", \"horsepower\", \"weight\", \"acceleration\", \"model year\", \"origin\", \"car name\"]\n",
        "cars = pd.read_table(\"auto-mpg.data\", delim_whitespace=True, names=columns)\n",
        "filtered_cars = cars[cars['horsepower'] != '?'].copy()\n",
        "filtered_cars['horsepower'] = filtered_cars['horsepower'].astype('float')"
      ],
      "execution_count": null,
      "outputs": []
    },
    {
      "cell_type": "code",
      "metadata": {
        "id": "U6CRI6EQL9y1",
        "outputId": "8fcd5d3d-9f60-4c3a-ed71-d74c7f955ccb"
      },
      "source": [
        "filtered_cars.head()"
      ],
      "execution_count": null,
      "outputs": [
        {
          "output_type": "execute_result",
          "data": {
            "text/html": [
              "<div>\n",
              "<style scoped>\n",
              "    .dataframe tbody tr th:only-of-type {\n",
              "        vertical-align: middle;\n",
              "    }\n",
              "\n",
              "    .dataframe tbody tr th {\n",
              "        vertical-align: top;\n",
              "    }\n",
              "\n",
              "    .dataframe thead th {\n",
              "        text-align: right;\n",
              "    }\n",
              "</style>\n",
              "<table border=\"1\" class=\"dataframe\">\n",
              "  <thead>\n",
              "    <tr style=\"text-align: right;\">\n",
              "      <th></th>\n",
              "      <th>mpg</th>\n",
              "      <th>cylinders</th>\n",
              "      <th>displacement</th>\n",
              "      <th>horsepower</th>\n",
              "      <th>weight</th>\n",
              "      <th>acceleration</th>\n",
              "      <th>model year</th>\n",
              "      <th>origin</th>\n",
              "      <th>car name</th>\n",
              "    </tr>\n",
              "  </thead>\n",
              "  <tbody>\n",
              "    <tr>\n",
              "      <td>0</td>\n",
              "      <td>18.0</td>\n",
              "      <td>8</td>\n",
              "      <td>307.0</td>\n",
              "      <td>130.0</td>\n",
              "      <td>3504.0</td>\n",
              "      <td>12.0</td>\n",
              "      <td>70</td>\n",
              "      <td>1</td>\n",
              "      <td>chevrolet chevelle malibu</td>\n",
              "    </tr>\n",
              "    <tr>\n",
              "      <td>1</td>\n",
              "      <td>15.0</td>\n",
              "      <td>8</td>\n",
              "      <td>350.0</td>\n",
              "      <td>165.0</td>\n",
              "      <td>3693.0</td>\n",
              "      <td>11.5</td>\n",
              "      <td>70</td>\n",
              "      <td>1</td>\n",
              "      <td>buick skylark 320</td>\n",
              "    </tr>\n",
              "    <tr>\n",
              "      <td>2</td>\n",
              "      <td>18.0</td>\n",
              "      <td>8</td>\n",
              "      <td>318.0</td>\n",
              "      <td>150.0</td>\n",
              "      <td>3436.0</td>\n",
              "      <td>11.0</td>\n",
              "      <td>70</td>\n",
              "      <td>1</td>\n",
              "      <td>plymouth satellite</td>\n",
              "    </tr>\n",
              "    <tr>\n",
              "      <td>3</td>\n",
              "      <td>16.0</td>\n",
              "      <td>8</td>\n",
              "      <td>304.0</td>\n",
              "      <td>150.0</td>\n",
              "      <td>3433.0</td>\n",
              "      <td>12.0</td>\n",
              "      <td>70</td>\n",
              "      <td>1</td>\n",
              "      <td>amc rebel sst</td>\n",
              "    </tr>\n",
              "    <tr>\n",
              "      <td>4</td>\n",
              "      <td>17.0</td>\n",
              "      <td>8</td>\n",
              "      <td>302.0</td>\n",
              "      <td>140.0</td>\n",
              "      <td>3449.0</td>\n",
              "      <td>10.5</td>\n",
              "      <td>70</td>\n",
              "      <td>1</td>\n",
              "      <td>ford torino</td>\n",
              "    </tr>\n",
              "  </tbody>\n",
              "</table>\n",
              "</div>"
            ],
            "text/plain": [
              "    mpg  cylinders  displacement  horsepower  weight  acceleration  \\\n",
              "0  18.0          8         307.0       130.0  3504.0          12.0   \n",
              "1  15.0          8         350.0       165.0  3693.0          11.5   \n",
              "2  18.0          8         318.0       150.0  3436.0          11.0   \n",
              "3  16.0          8         304.0       150.0  3433.0          12.0   \n",
              "4  17.0          8         302.0       140.0  3449.0          10.5   \n",
              "\n",
              "   model year  origin                   car name  \n",
              "0          70       1  chevrolet chevelle malibu  \n",
              "1          70       1          buick skylark 320  \n",
              "2          70       1         plymouth satellite  \n",
              "3          70       1              amc rebel sst  \n",
              "4          70       1                ford torino  "
            ]
          },
          "metadata": {
            "tags": []
          },
          "execution_count": 59
        }
      ]
    },
    {
      "cell_type": "code",
      "metadata": {
        "id": "5zTFdJuBL9y2"
      },
      "source": [
        "from sklearn.linear_model import LinearRegression\n",
        "from sklearn.metrics import mean_squared_error\n",
        "import numpy as np\n",
        "import matplotlib.pyplot as plt"
      ],
      "execution_count": null,
      "outputs": []
    },
    {
      "cell_type": "code",
      "metadata": {
        "id": "bkrqZOUOL9y3"
      },
      "source": [
        "def train_and_test(cols):\n",
        "    features= filtered_cars[cols]\n",
        "    target= filtered_cars['mpg']\n",
        "    liner= LinearRegression()\n",
        "    liner.fit(features, target)\n",
        "    predictions= liner.predict(features)\n",
        "    mse= mean_squared_error(filtered_cars['mpg'], predictions)\n",
        "    variance= np.var(predictions)\n",
        "    return (mse, variance)\n",
        "\n",
        "cyl_mse, cyl_var = train_and_test([\"cylinders\"])\n",
        "weight_mse, weight_var = train_and_test([\"weight\"])"
      ],
      "execution_count": null,
      "outputs": []
    },
    {
      "cell_type": "code",
      "metadata": {
        "id": "IGeoB0LhL9y4",
        "outputId": "c6739a79-1d5d-40ce-f799-c73683688da3"
      },
      "source": [
        "cyl_mse, cyl_var"
      ],
      "execution_count": null,
      "outputs": [
        {
          "output_type": "execute_result",
          "data": {
            "text/plain": [
              "(24.02017956815553, 36.74255887416017)"
            ]
          },
          "metadata": {
            "tags": []
          },
          "execution_count": 62
        }
      ]
    },
    {
      "cell_type": "code",
      "metadata": {
        "id": "fhugN_AiL9y4",
        "outputId": "16ef7372-c98a-4242-9a7d-d9bce9a1a25d"
      },
      "source": [
        "weight_mse, weight_var"
      ],
      "execution_count": null,
      "outputs": [
        {
          "output_type": "execute_result",
          "data": {
            "text/plain": [
              "(18.6766165974193, 42.08612184489641)"
            ]
          },
          "metadata": {
            "tags": []
          },
          "execution_count": 63
        }
      ]
    },
    {
      "cell_type": "code",
      "metadata": {
        "id": "f_OtuSpXL9y5"
      },
      "source": [
        "one_mse, one_var = train_and_test([\"cylinders\"])\n",
        "two_mse, two_var = train_and_test([\"cylinders\", \"displacement\"])\n",
        "three_mse, three_var= train_and_test([\"cylinders\", \"displacement\", \"horsepower\"])\n",
        "four_mse, four_var=train_and_test([\"cylinders\", \"displacement\",\"horsepower\", \"weight\"])\n",
        "five_mse, five_var= train_and_test([\"cylinders\", \"displacement\",\"horsepower\", \"weight\", \"acceleration\"])\n",
        "six_mse, six_var=  train_and_test([\"cylinders\", \"displacement\",\"horsepower\", \"weight\", \"acceleration\", \"model year\"])\n",
        "seven_mse,seven_var=  train_and_test([\"cylinders\", \"displacement\",\"horsepower\", \"weight\", \"acceleration\", \"model year\", \"origin\"])"
      ],
      "execution_count": null,
      "outputs": []
    },
    {
      "cell_type": "code",
      "metadata": {
        "id": "nYpDmHr5L9y6",
        "outputId": "23809c34-f052-48a6-9621-a71b9a0b0925"
      },
      "source": [
        "dicts= {\"MSE\":[one_mse, two_mse, three_mse, four_mse, five_mse, six_mse, seven_mse],\n",
        "       \"VAR\":[one_var, two_var, three_var, four_var,five_var, six_var, seven_var]}\n",
        "mse_var= pd.DataFrame(dicts, index=[i for i in range(1,8)])\n",
        "mse_var"
      ],
      "execution_count": null,
      "outputs": [
        {
          "output_type": "execute_result",
          "data": {
            "text/html": [
              "<div>\n",
              "<style scoped>\n",
              "    .dataframe tbody tr th:only-of-type {\n",
              "        vertical-align: middle;\n",
              "    }\n",
              "\n",
              "    .dataframe tbody tr th {\n",
              "        vertical-align: top;\n",
              "    }\n",
              "\n",
              "    .dataframe thead th {\n",
              "        text-align: right;\n",
              "    }\n",
              "</style>\n",
              "<table border=\"1\" class=\"dataframe\">\n",
              "  <thead>\n",
              "    <tr style=\"text-align: right;\">\n",
              "      <th></th>\n",
              "      <th>MSE</th>\n",
              "      <th>VAR</th>\n",
              "    </tr>\n",
              "  </thead>\n",
              "  <tbody>\n",
              "    <tr>\n",
              "      <td>1</td>\n",
              "      <td>24.020180</td>\n",
              "      <td>36.742559</td>\n",
              "    </tr>\n",
              "    <tr>\n",
              "      <td>2</td>\n",
              "      <td>21.282057</td>\n",
              "      <td>39.480681</td>\n",
              "    </tr>\n",
              "    <tr>\n",
              "      <td>3</td>\n",
              "      <td>20.252955</td>\n",
              "      <td>40.509784</td>\n",
              "    </tr>\n",
              "    <tr>\n",
              "      <td>4</td>\n",
              "      <td>17.763861</td>\n",
              "      <td>42.998878</td>\n",
              "    </tr>\n",
              "    <tr>\n",
              "      <td>5</td>\n",
              "      <td>17.761396</td>\n",
              "      <td>43.001342</td>\n",
              "    </tr>\n",
              "    <tr>\n",
              "      <td>6</td>\n",
              "      <td>11.590171</td>\n",
              "      <td>49.172567</td>\n",
              "    </tr>\n",
              "    <tr>\n",
              "      <td>7</td>\n",
              "      <td>10.847481</td>\n",
              "      <td>49.915257</td>\n",
              "    </tr>\n",
              "  </tbody>\n",
              "</table>\n",
              "</div>"
            ],
            "text/plain": [
              "         MSE        VAR\n",
              "1  24.020180  36.742559\n",
              "2  21.282057  39.480681\n",
              "3  20.252955  40.509784\n",
              "4  17.763861  42.998878\n",
              "5  17.761396  43.001342\n",
              "6  11.590171  49.172567\n",
              "7  10.847481  49.915257"
            ]
          },
          "metadata": {
            "tags": []
          },
          "execution_count": 74
        }
      ]
    },
    {
      "cell_type": "markdown",
      "metadata": {
        "id": "UrChc1FGL9y7"
      },
      "source": [
        "we can see all mse decress value of var goes on increasing\n"
      ]
    },
    {
      "cell_type": "code",
      "metadata": {
        "id": "UQDdF7EkL9y8",
        "outputId": "84860cae-5eff-4245-cc6b-c5dbafbc20ee"
      },
      "source": [
        "[i for i in range(1,7)]"
      ],
      "execution_count": null,
      "outputs": [
        {
          "output_type": "execute_result",
          "data": {
            "text/plain": [
              "[1, 2, 3, 4, 5, 6]"
            ]
          },
          "metadata": {
            "tags": []
          },
          "execution_count": 71
        }
      ]
    },
    {
      "cell_type": "code",
      "metadata": {
        "id": "omZ-ggChL9y9"
      },
      "source": [
        "from sklearn.model_selection import KFold\n",
        "from sklearn.metrics import mean_squared_error\n",
        "from sklearn.linear_model import LinearRegression\n",
        "\n",
        "import numpy as np\n",
        "\n",
        "def train_and_cross_val(cols):\n",
        "    features= filtered_cars[cols]\n",
        "    target= filtered_cars['mpg']\n",
        "    val_mse= [] \n",
        "    val_var= []\n",
        "    kf= KFold(n_splits= 10, shuffle= True, random_state= 3)\n",
        "    for train_index, test_index in kf.split(features):\n",
        "        X_train, X_test= features.iloc[train_index], features.iloc[test_index]\n",
        "        y_train, y_test= target.iloc[train_index], target.iloc[test_index]\n",
        "        lr= LinearRegression()\n",
        "        lr.fit(X_train, y_train)\n",
        "        predictions= lr.predict(X_test)\n",
        "        mse= mean_squared_error(y_test, predictions)\n",
        "        var= np.var(predictions)\n",
        "        val_mse.append(mse)\n",
        "        val_var.append(var)\n",
        "    avg_mse= np.mean(val_mse)\n",
        "    avg_var= np.mean(val_var)\n",
        "    return (avg_mse, avg_var)\n",
        "\n",
        "\n",
        "\n",
        "        \n",
        "        \n",
        "        \n",
        "    "
      ],
      "execution_count": null,
      "outputs": []
    },
    {
      "cell_type": "code",
      "metadata": {
        "id": "J5-prgfML9y-"
      },
      "source": [
        "two_mse, two_var=train_and_cross_val(['cylinders', 'displacement'])\n",
        "three_mse, three_var= train_and_cross_val(['cylinders', 'displacement', 'horsepower'])\n",
        "four_mse, four_var= train_and_cross_val(['cylinders', 'displacement','horsepower', 'weight'])\n",
        "five_mse, five_var= train_and_cross_val(['cylinders', 'displacement','horsepower', 'weight', 'acceleration'])\n",
        "six_mse, six_var= train_and_cross_val(['cylinders', 'displacement', 'horsepower', 'weight', 'acceleration', 'model year'])\n",
        "seven_mse, seven_var= train_and_cross_val(['cylinders', 'displacement', 'horsepower', 'weight', 'acceleration', 'model year', 'origin'])\n"
      ],
      "execution_count": null,
      "outputs": []
    },
    {
      "cell_type": "code",
      "metadata": {
        "id": "Nf-YFSPgL9zA",
        "outputId": "ad78954e-d0fd-4f92-8ce4-72da4b5eeee4"
      },
      "source": [
        "dicts_2= {\"MSE\":[two_mse, three_mse, four_mse, five_mse, six_mse, seven_mse],\n",
        "       \"VAR\":[two_var, three_var, four_var,five_var, six_var, seven_var]}\n",
        "mse_var= pd.DataFrame(dicts_2, index=[i for i in range(1,7)])\n",
        "mse_var"
      ],
      "execution_count": null,
      "outputs": [
        {
          "output_type": "execute_result",
          "data": {
            "text/html": [
              "<div>\n",
              "<style scoped>\n",
              "    .dataframe tbody tr th:only-of-type {\n",
              "        vertical-align: middle;\n",
              "    }\n",
              "\n",
              "    .dataframe tbody tr th {\n",
              "        vertical-align: top;\n",
              "    }\n",
              "\n",
              "    .dataframe thead th {\n",
              "        text-align: right;\n",
              "    }\n",
              "</style>\n",
              "<table border=\"1\" class=\"dataframe\">\n",
              "  <thead>\n",
              "    <tr style=\"text-align: right;\">\n",
              "      <th></th>\n",
              "      <th>MSE</th>\n",
              "      <th>VAR</th>\n",
              "    </tr>\n",
              "  </thead>\n",
              "  <tbody>\n",
              "    <tr>\n",
              "      <td>1</td>\n",
              "      <td>21.584370</td>\n",
              "      <td>38.902525</td>\n",
              "    </tr>\n",
              "    <tr>\n",
              "      <td>2</td>\n",
              "      <td>20.655622</td>\n",
              "      <td>40.091288</td>\n",
              "    </tr>\n",
              "    <tr>\n",
              "      <td>3</td>\n",
              "      <td>18.169683</td>\n",
              "      <td>42.507644</td>\n",
              "    </tr>\n",
              "    <tr>\n",
              "      <td>4</td>\n",
              "      <td>18.283039</td>\n",
              "      <td>42.598736</td>\n",
              "    </tr>\n",
              "    <tr>\n",
              "      <td>5</td>\n",
              "      <td>12.099685</td>\n",
              "      <td>48.928247</td>\n",
              "    </tr>\n",
              "    <tr>\n",
              "      <td>6</td>\n",
              "      <td>11.418132</td>\n",
              "      <td>49.904314</td>\n",
              "    </tr>\n",
              "  </tbody>\n",
              "</table>\n",
              "</div>"
            ],
            "text/plain": [
              "         MSE        VAR\n",
              "1  21.584370  38.902525\n",
              "2  20.655622  40.091288\n",
              "3  18.169683  42.507644\n",
              "4  18.283039  42.598736\n",
              "5  12.099685  48.928247\n",
              "6  11.418132  49.904314"
            ]
          },
          "metadata": {
            "tags": []
          },
          "execution_count": 86
        }
      ]
    },
    {
      "cell_type": "code",
      "metadata": {
        "id": "SCqReRM1L9zB",
        "outputId": "e086586e-2dfa-4b21-e2b7-663755f696cc"
      },
      "source": [
        "import matplotlib.pyplot as plt\n",
        "plt.scatter([2,3,4,5,6,7], [two_mse, three_mse, four_mse, five_mse, six_mse, seven_mse], color='red', label='mse')\n",
        "plt.scatter([2,3,4,5,6,7], [two_var, three_var, four_var,five_var, six_var, seven_var], color='blue', label='var')\n",
        "plt.show()"
      ],
      "execution_count": null,
      "outputs": [
        {
          "output_type": "display_data",
          "data": {
            "image/png": "[encoded data removed]",
            "text/plain": [
              "<Figure size 432x288 with 1 Axes>"
            ]
          },
          "metadata": {
            "tags": [],
            "needs_background": "light"
          }
        }
      ]
    },
    {
      "cell_type": "code",
      "metadata": {
        "id": "zxuZghT-L9zC"
      },
      "source": [
        ""
      ],
      "execution_count": null,
      "outputs": []
    }
  ]
}