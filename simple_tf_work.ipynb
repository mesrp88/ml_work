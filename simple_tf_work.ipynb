{
  "nbformat": 4,
  "nbformat_minor": 0,
  "metadata": {
    "colab": {
      "name": "tensorflowipynb",
      "provenance": [],
      "authorship_tag": "ABX9TyN0+lIqhsdbqEPIhPbS1wlx",
      "include_colab_link": true
    },
    "kernelspec": {
      "name": "python3",
      "display_name": "Python 3"
    },
    "language_info": {
      "name": "python"
    }
  },
  "cells": [
    {
      "cell_type": "markdown",
      "metadata": {
        "id": "view-in-github",
        "colab_type": "text"
      },
      "source": [
        "<a href=\"https://colab.research.google.com/github/mesrp88/ml_work/blob/main/simple_tf_work.ipynb\" target=\"_parent\"><img src=\"https://colab.research.google.com/assets/colab-badge.svg\" alt=\"Open In Colab\"/></a>"
      ]
    },
    {
      "cell_type": "markdown",
      "metadata": {
        "id": "7TTBopAdYC4L"
      },
      "source": [
        " my First Guided deeplearning work."
      ]
    },
    {
      "cell_type": "code",
      "metadata": {
        "id": "FeDqnTOULWcT"
      },
      "source": [
        "import tensorflow as tf                                    #import tensorflow module as tf\n",
        "print(tf.__version__)                                      #printing version of tf\n",
        "import numpy as np                                         #importing numpy module\n",
        "from tensorflow.keras import Sequential                    #importing sequential from keras\n",
        "from tensorflow.keras.layers import Dense                  #importing Dense from keras.layers"
      ],
      "execution_count": null,
      "outputs": []
    },
    {
      "cell_type": "code",
      "metadata": {
        "id": "sVxNjXUQLftv"
      },
      "source": [
        "model= Sequential([Dense(units=1, input_shape=[1])])       #creating model\n"
      ],
      "execution_count": 3,
      "outputs": []
    },
    {
      "cell_type": "code",
      "metadata": {
        "id": "F-q_lIkGVYGF"
      },
      "source": [
        "model.compile(optimizer='sgd', loss='mean_squared_error')  #compiling model with optimizer and loss parameters"
      ],
      "execution_count": 4,
      "outputs": []
    },
    {
      "cell_type": "code",
      "metadata": {
        "id": "st1jH0CAVvtt"
      },
      "source": [
        "xs= np.array([-1.0, 0.0, 1.0, 2.0, 3.0, 4.0], dtype=float) # array of independent variable\n",
        "ys= np.array([-3.0, -1.0, 1.0, 3.0, 5.0, 7.0], dtype=float)# array of dependent variable"
      ],
      "execution_count": 5,
      "outputs": []
    },
    {
      "cell_type": "code",
      "metadata": {
        "id": "BtpXnsjTW8bx"
      },
      "source": [
        "model.fit(xs, ys, epochs= 500)                             #fiting model with epoches"
      ],
      "execution_count": null,
      "outputs": []
    },
    {
      "cell_type": "code",
      "metadata": {
        "colab": {
          "base_uri": "https://localhost:8080/"
        },
        "id": "5WQt4XuEXR_s",
        "outputId": "3c8679c9-c412-4258-9502-dbc81471e5c8"
      },
      "source": [
        "print(model.predict([10.0]))                              #predicting model"
      ],
      "execution_count": 7,
      "outputs": [
        {
          "output_type": "stream",
          "text": [
            "[[18.98048]]\n"
          ],
          "name": "stdout"
        }
      ]
    },
    {
      "cell_type": "code",
      "metadata": {
        "id": "HsKd59s3X0qp"
      },
      "source": [
        ""
      ],
      "execution_count": 7,
      "outputs": []
    }
  ]
}